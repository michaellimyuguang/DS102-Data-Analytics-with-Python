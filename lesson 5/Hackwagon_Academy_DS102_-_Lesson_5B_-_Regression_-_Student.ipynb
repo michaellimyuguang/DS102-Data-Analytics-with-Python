{
 "cells": [
  {
   "cell_type": "markdown",
   "metadata": {},
   "source": [
    "<center><img src=\"https://i2.wp.com/hackwagon.com/wp-content/uploads/2017/02/Logo-Web-Export.png?ssl=1\" width=200/></center>\n",
    "<h1> Hackwagon Academy DS102 Lesson 5B </h1>\n",
    "<h2> Regression </h2> \n",
    "<h3> Lesson Outline </h3>\n",
    "\n",
    "\n",
    "- 1. [Simple Linear Regression](#1)\n",
    "    - 1.1 [Example - Tips](#1.1)\n",
    "    - 1.2 [Example - Housing Prices](#1.2)\n",
    "    - [Practice I](#P1)\n",
    "- 2. [Multivariate Linear Regression](#2)\n",
    "    - 2.1 [Example - Housing Prices](#2.1)\n",
    "    - [Practice II](#P2)"
   ]
  },
  {
   "cell_type": "code",
   "execution_count": 1,
   "metadata": {},
   "outputs": [
    {
     "name": "stdout",
     "output_type": "stream",
     "text": [
      "Requirement already satisfied: sklearn in c:\\users\\michael\\anaconda3\\lib\\site-packages (0.0)\n",
      "Requirement already satisfied: scikit-learn in c:\\users\\michael\\anaconda3\\lib\\site-packages (from sklearn) (0.22.1)\n",
      "Requirement already satisfied: scipy>=0.17.0 in c:\\users\\michael\\anaconda3\\lib\\site-packages (from scikit-learn->sklearn) (1.4.1)\n",
      "Requirement already satisfied: numpy>=1.11.0 in c:\\users\\michael\\anaconda3\\lib\\site-packages (from scikit-learn->sklearn) (1.18.1)\n",
      "Requirement already satisfied: joblib>=0.11 in c:\\users\\michael\\anaconda3\\lib\\site-packages (from scikit-learn->sklearn) (0.14.1)\n"
     ]
    }
   ],
   "source": [
    "!pip install sklearn"
   ]
  },
  {
   "cell_type": "markdown",
   "metadata": {},
   "source": [
    "<hr/>\n",
    "\n",
    "<a id='1'><h2><img src=\"https://images.vexels.com/media/users/3/153978/isolated/preview/483ef8b10a46e28d02293a31570c8c56-warning-sign-colored-stroke-icon-by-vexels.png\" width=23 align=\"left\"><font color=\"salmon\">&nbsp;</font><font color=\"salmon\"> Scikit Learn - SKLearn </font> </h2></a>\n",
    "\n",
    "<a id='1.1'><h3>5 Standard Steps</h3></a>\n",
    "\n",
    "**Step 1**: Choose a class of machine learning model from the library \n",
    "\n",
    "**Step 2**: Choose the model’s hyperparameters by instantiating with desired values (tuning)\n",
    "\n",
    "**Step 3**: Arrange data into features and target\n",
    "\n",
    "**Step 4**: Fit model to your data by using the fit() method of the model \n",
    "\n",
    "**Step 5**: Apply the model to new data:\n",
    "    - For supervised learning, using the predict() method\n",
    "    - For unsupervised learning, using the predict() or transform() method"
   ]
  },
  {
   "cell_type": "markdown",
   "metadata": {},
   "source": [
    "\n",
    "<a id='1'><h2><img src=\"https://images.vexels.com/media/users/3/153978/isolated/preview/483ef8b10a46e28d02293a31570c8c56-warning-sign-colored-stroke-icon-by-vexels.png\" width=23 align=\"left\"><font color=\"salmon\">&nbsp;1.</font><font color=\"salmon\"> Simple Linear Regression </font> </h2></a>\n",
    "\n",
    "<a id='1.1'><h3>1.1 Example - Tips </h3></a>\n",
    "\n"
   ]
  },
  {
   "cell_type": "code",
   "execution_count": 4,
   "metadata": {},
   "outputs": [
    {
     "data": {
      "text/plain": [
       "<matplotlib.axes._subplots.AxesSubplot at 0x29f873d01c8>"
      ]
     },
     "execution_count": 4,
     "metadata": {},
     "output_type": "execute_result"
    },
    {
     "data": {
      "image/png": "[encoded data removed]",
      "text/plain": [
       "<Figure size 432x288 with 1 Axes>"
      ]
     },
     "metadata": {
      "needs_background": "light"
     },
     "output_type": "display_data"
    }
   ],
   "source": [
    "import pandas as pd\n",
    "\n",
    "data = { \n",
    "    'ID': [1,2,3,4,5,6],\n",
    "    'Tips': [10, 25, 12, 8, 15, 20],\n",
    "    'Meal': [80, 150, 75, 60, 100, 150]\n",
    "}\n",
    "\n",
    "tips_df = pd.DataFrame(data)\n",
    "tips_df\n",
    "\n",
    "tips_df.plot(kind='scatter',\n",
    "            x='Meal',\n",
    "            y='Tips')"
   ]
  },
  {
   "cell_type": "code",
   "execution_count": 7,
   "metadata": {},
   "outputs": [
    {
     "data": {
      "text/plain": [
       "LinearRegression(copy_X=True, fit_intercept=True, n_jobs=None, normalize=False)"
      ]
     },
     "execution_count": 7,
     "metadata": {},
     "output_type": "execute_result"
    }
   ],
   "source": [
    "from sklearn import datasets, linear_model\n",
    "\n",
    "# Step 1 & 2\n",
    "regression = linear_model.LinearRegression()\n",
    "\n",
    "# Step 3\n",
    "X = tips_df[['Meal']]\n",
    "Y = tips_df[['Tips']]\n",
    "\n",
    "# Step 4\n",
    "regression.fit(X,Y)\n"
   ]
  },
  {
   "cell_type": "markdown",
   "metadata": {},
   "source": [
    "Step 5 is in another cell because the model has been trained, there is not need to keep re-training the model again and again."
   ]
  },
  {
   "cell_type": "code",
   "execution_count": 8,
   "metadata": {},
   "outputs": [
    {
     "data": {
      "text/plain": [
       "array([[14.6029654]])"
      ]
     },
     "execution_count": 8,
     "metadata": {},
     "output_type": "execute_result"
    }
   ],
   "source": [
    "# Step 5 \n",
    "# Predicting Meal of $10 \n",
    " # < Note that it's a list of lists\n",
    "regression.predict([[100]])"
   ]
  },
  {
   "cell_type": "markdown",
   "metadata": {},
   "source": [
    "Use `.coef_` and `.intercept_` to get the coefficent and intercept of the regression."
   ]
  },
  {
   "cell_type": "code",
   "execution_count": 9,
   "metadata": {},
   "outputs": [
    {
     "name": "stdout",
     "output_type": "stream",
     "text": [
      "[[0.15881384]]\n",
      "[-1.27841845]\n"
     ]
    }
   ],
   "source": [
    "print(regression.coef_)\n",
    "print(regression.intercept_)\n",
    "\n",
    "#  Tips = -1.27  + 0.158 (Meal)\n",
    "# With every $1 increase in meal, tips would increase by $0.15"
   ]
  },
  {
   "cell_type": "markdown",
   "metadata": {},
   "source": [
    "<a id='1.2'><h3>1.2 Example - Housing Prices </h3></a>\n",
    "\n",
    "Filter to just two columns, where the predictor variable is `sqft_living` and the target variable `price`.  "
   ]
  },
  {
   "cell_type": "code",
   "execution_count": 11,
   "metadata": {},
   "outputs": [
    {
     "name": "stdout",
     "output_type": "stream",
     "text": [
      "      sqft_living  sqm_living  floors\n",
      "0            3500      106.71     2.0\n",
      "1            1180       35.98     1.0\n",
      "2            1260       38.41     1.5\n",
      "3            1520       46.34     1.0\n",
      "4            1780       54.27     1.0\n",
      "...           ...         ...     ...\n",
      "4995         4090      124.70     2.0\n",
      "4996         1820       55.49     1.0\n",
      "4997         4270      130.18     2.0\n",
      "4998         1710       52.13     1.0\n",
      "4999         1490       45.43     1.0\n",
      "\n",
      "[5000 rows x 3 columns]\n",
      "        price\n",
      "0      788600\n",
      "1      600000\n",
      "2      523000\n",
      "3      415000\n",
      "4      535000\n",
      "...       ...\n",
      "4995  1680000\n",
      "4996   345000\n",
      "4997  1300000\n",
      "4998   480000\n",
      "4999   269000\n",
      "\n",
      "[5000 rows x 1 columns]\n"
     ]
    },
    {
     "data": {
      "text/plain": [
       "<matplotlib.collections.PathCollection at 0x29f8a361b08>"
      ]
     },
     "execution_count": 11,
     "metadata": {},
     "output_type": "execute_result"
    },
    {
     "data": {
      "image/png": "[encoded data removed]",
      "text/plain": [
       "<Figure size 432x288 with 1 Axes>"
      ]
     },
     "metadata": {
      "needs_background": "light"
     },
     "output_type": "display_data"
    }
   ],
   "source": [
    "housing_x = pd.read_csv('housing_x.csv')\n",
    "price = pd.read_csv('housing_y.csv')\n",
    "\n",
    "print(housing_x)\n",
    "print(price)\n",
    "import matplotlib.pyplot as plt\n",
    "\n",
    "plt.scatter(housing_x['sqft_living'], price)"
   ]
  },
  {
   "cell_type": "markdown",
   "metadata": {},
   "source": [
    "### Train Test Split\n",
    "\n",
    "Filter to just to the `RunTime` and `Performance` as a DataFrame, `rt_perf_df`. Conduct `train_test_split()` to get the four splits of data. "
   ]
  },
  {
   "cell_type": "code",
   "execution_count": 12,
   "metadata": {},
   "outputs": [],
   "source": [
    "from sklearn.model_selection import train_test_split\n",
    "\n",
    "sqft_living = housing_x[['sqft_living']]\n",
    "\n",
    "#pseudo-randomness. we set random_state=20 because we want to achieve the same outcome as the TA. random_state is similar to the seed of random\n",
    "X_train, X_test, Y_train, Y_test = train_test_split(sqft_living, price, random_state=20)\n",
    "\n"
   ]
  },
  {
   "cell_type": "markdown",
   "metadata": {},
   "source": [
    "### Fit Model\n",
    "\n",
    "Using the train datasets, train the model as `simple_housing_lr`."
   ]
  },
  {
   "cell_type": "raw",
   "metadata": {},
   "source": [
    "regression = linear_model.LinearRegression()\n",
    "\n",
    "regression.fit(X_train, Y_train)"
   ]
  },
  {
   "cell_type": "markdown",
   "metadata": {},
   "source": [
    "### Interpret\n",
    "\n",
    "With the fitted model, interpret and create the linear equation of the model. "
   ]
  },
  {
   "cell_type": "code",
   "execution_count": 14,
   "metadata": {
    "scrolled": true
   },
   "outputs": [
    {
     "name": "stdout",
     "output_type": "stream",
     "text": [
      "[[278.71655879]]\n",
      "[-40567.95066026]\n"
     ]
    }
   ],
   "source": [
    "print(regression.coef_)\n",
    "print(regression.intercept_)\n",
    "\n",
    "#price = -40567.95066026 + (278.71655879 sqrt_living)\n",
    "#For every increase in sqrt_living, the price increase by 278"
   ]
  },
  {
   "cell_type": "markdown",
   "metadata": {},
   "source": [
    "### Predict \n",
    "\n",
    "Using `.predict()`, predict with a custom square-feet."
   ]
  },
  {
   "cell_type": "code",
   "execution_count": 15,
   "metadata": {},
   "outputs": [
    {
     "data": {
      "text/plain": [
       "array([[2746597.63726424]])"
      ]
     },
     "execution_count": 15,
     "metadata": {},
     "output_type": "execute_result"
    }
   ],
   "source": [
    "custom_sqft = 10000\n",
    "\n",
    "regression.predict([[custom_sqft]])\n"
   ]
  },
  {
   "cell_type": "markdown",
   "metadata": {},
   "source": [
    "### Assess Performance of Model\n",
    "\n",
    "Using `r2_score` calculate the R-squared score of the model."
   ]
  },
  {
   "cell_type": "code",
   "execution_count": 18,
   "metadata": {},
   "outputs": [
    {
     "name": "stdout",
     "output_type": "stream",
     "text": [
      "0.46457407510643134\n",
      "163898.81206966777\n",
      "53899675727.63344\n"
     ]
    }
   ],
   "source": [
    "from sklearn.metrics import r2_score, mean_absolute_error, mean_squared_error\n",
    "\n",
    "fitted_values = regression.predict(X_test)\n",
    "\n",
    "print(r2_score(Y_test, fitted_values))\n",
    "print(mean_absolute_error(Y_test, fitted_values))\n",
    "print(mean_squared_error(Y_test, fitted_values))"
   ]
  },
  {
   "cell_type": "markdown",
   "metadata": {},
   "source": [
    "<a id='P1'><h2> <img src=\"https://cdn.shopify.com/s/files/1/1200/7374/products/book_aec28e76-52ec-44ab-bc01-41df1279c89f_550x825.png?v=1473897430\" width=25 align=\"left\"> <font color=\"darkorange\"> &nbsp; Practice I </font><font color=\"skyblue\"> * </font></h2></a>\n",
    "\n",
    "### Fitness Dataset\n",
    "\n",
    "Based on this fitness dataset, predict the `RunTime` based on the following predictors:\n",
    "\n",
    "1. Performance\n",
    "\n",
    "### Read  Dataset\n",
    "\n",
    "Read the `fitness-data.csv` as `fit_df`. "
   ]
  },
  {
   "cell_type": "code",
   "execution_count": null,
   "metadata": {},
   "outputs": [],
   "source": []
  },
  {
   "cell_type": "markdown",
   "metadata": {},
   "source": [
    "### Train Test Split\n",
    "\n",
    "Filter to just to the `RunTime` and `Performance` as a DataFrame, `rt_perf_df`. Conduct `train_test_split()` to get the four splits of data. "
   ]
  },
  {
   "cell_type": "code",
   "execution_count": null,
   "metadata": {},
   "outputs": [],
   "source": []
  },
  {
   "cell_type": "markdown",
   "metadata": {},
   "source": [
    "### Fit Model\n",
    "\n",
    "Create a LinearRegression variable, named  `simple_performance_lr`. Using the trained datasets, train the model."
   ]
  },
  {
   "cell_type": "code",
   "execution_count": null,
   "metadata": {},
   "outputs": [],
   "source": []
  },
  {
   "cell_type": "markdown",
   "metadata": {},
   "source": [
    "### Interpret\n",
    "\n",
    "With the fitted model, interpret and create the linear equation of the model. "
   ]
  },
  {
   "cell_type": "code",
   "execution_count": null,
   "metadata": {},
   "outputs": [],
   "source": []
  },
  {
   "cell_type": "markdown",
   "metadata": {},
   "source": [
    "### Predict \n",
    "\n",
    "Using `.predict()`, predict with custom values. "
   ]
  },
  {
   "cell_type": "code",
   "execution_count": null,
   "metadata": {},
   "outputs": [],
   "source": []
  },
  {
   "cell_type": "markdown",
   "metadata": {},
   "source": [
    "### Assess Performance of Model\n",
    "\n",
    "Using `r2_score` calculate the R-squared score of the model."
   ]
  },
  {
   "cell_type": "code",
   "execution_count": null,
   "metadata": {},
   "outputs": [],
   "source": []
  },
  {
   "cell_type": "markdown",
   "metadata": {},
   "source": [
    "\n",
    "<a id='2'><h2><img src=\"https://images.vexels.com/media/users/3/153978/isolated/preview/483ef8b10a46e28d02293a31570c8c56-warning-sign-colored-stroke-icon-by-vexels.png\" width=23 align=\"left\"><font color=\"salmon\">&nbsp;2.</font><font color=\"salmon\"> Multivariate Linear Regression </font> </h2></a>\n",
    "\n",
    "<a id='2.1'><h3>2.1 Example - Housing Prices  </h3></a>\n",
    "\n",
    "This time, we'll apply more variables to the model and drop variables where necessary."
   ]
  },
  {
   "cell_type": "code",
   "execution_count": 19,
   "metadata": {},
   "outputs": [
    {
     "data": {
      "text/html": [
       "<div>\n",
       "<style scoped>\n",
       "    .dataframe tbody tr th:only-of-type {\n",
       "        vertical-align: middle;\n",
       "    }\n",
       "\n",
       "    .dataframe tbody tr th {\n",
       "        vertical-align: top;\n",
       "    }\n",
       "\n",
       "    .dataframe thead th {\n",
       "        text-align: right;\n",
       "    }\n",
       "</style>\n",
       "<table border=\"1\" class=\"dataframe\">\n",
       "  <thead>\n",
       "    <tr style=\"text-align: right;\">\n",
       "      <th></th>\n",
       "      <th>sqft_living</th>\n",
       "      <th>sqm_living</th>\n",
       "      <th>floors</th>\n",
       "    </tr>\n",
       "  </thead>\n",
       "  <tbody>\n",
       "    <tr>\n",
       "      <th>0</th>\n",
       "      <td>3500</td>\n",
       "      <td>106.71</td>\n",
       "      <td>2.0</td>\n",
       "    </tr>\n",
       "    <tr>\n",
       "      <th>1</th>\n",
       "      <td>1180</td>\n",
       "      <td>35.98</td>\n",
       "      <td>1.0</td>\n",
       "    </tr>\n",
       "    <tr>\n",
       "      <th>2</th>\n",
       "      <td>1260</td>\n",
       "      <td>38.41</td>\n",
       "      <td>1.5</td>\n",
       "    </tr>\n",
       "    <tr>\n",
       "      <th>3</th>\n",
       "      <td>1520</td>\n",
       "      <td>46.34</td>\n",
       "      <td>1.0</td>\n",
       "    </tr>\n",
       "    <tr>\n",
       "      <th>4</th>\n",
       "      <td>1780</td>\n",
       "      <td>54.27</td>\n",
       "      <td>1.0</td>\n",
       "    </tr>\n",
       "  </tbody>\n",
       "</table>\n",
       "</div>"
      ],
      "text/plain": [
       "   sqft_living  sqm_living  floors\n",
       "0         3500      106.71     2.0\n",
       "1         1180       35.98     1.0\n",
       "2         1260       38.41     1.5\n",
       "3         1520       46.34     1.0\n",
       "4         1780       54.27     1.0"
      ]
     },
     "metadata": {},
     "output_type": "display_data"
    },
    {
     "data": {
      "text/html": [
       "<div>\n",
       "<style scoped>\n",
       "    .dataframe tbody tr th:only-of-type {\n",
       "        vertical-align: middle;\n",
       "    }\n",
       "\n",
       "    .dataframe tbody tr th {\n",
       "        vertical-align: top;\n",
       "    }\n",
       "\n",
       "    .dataframe thead th {\n",
       "        text-align: right;\n",
       "    }\n",
       "</style>\n",
       "<table border=\"1\" class=\"dataframe\">\n",
       "  <thead>\n",
       "    <tr style=\"text-align: right;\">\n",
       "      <th></th>\n",
       "      <th>price</th>\n",
       "    </tr>\n",
       "  </thead>\n",
       "  <tbody>\n",
       "    <tr>\n",
       "      <th>0</th>\n",
       "      <td>788600</td>\n",
       "    </tr>\n",
       "    <tr>\n",
       "      <th>1</th>\n",
       "      <td>600000</td>\n",
       "    </tr>\n",
       "    <tr>\n",
       "      <th>2</th>\n",
       "      <td>523000</td>\n",
       "    </tr>\n",
       "    <tr>\n",
       "      <th>3</th>\n",
       "      <td>415000</td>\n",
       "    </tr>\n",
       "    <tr>\n",
       "      <th>4</th>\n",
       "      <td>535000</td>\n",
       "    </tr>\n",
       "  </tbody>\n",
       "</table>\n",
       "</div>"
      ],
      "text/plain": [
       "    price\n",
       "0  788600\n",
       "1  600000\n",
       "2  523000\n",
       "3  415000\n",
       "4  535000"
      ]
     },
     "metadata": {},
     "output_type": "display_data"
    }
   ],
   "source": [
    "# Read from CSV the following files: KX_train, KX_test, Ky_train, Ky_test\n",
    "x_all = pd.read_csv('housing_x.csv')\n",
    "y_all = pd.read_csv('housing_y.csv')\n",
    "display(x_all.head())\n",
    "display(y_all.head())"
   ]
  },
  {
   "cell_type": "markdown",
   "metadata": {},
   "source": [
    "### Feature Selection\n",
    "\n",
    "Detect for multicollinearity and drop variables where necessary by using `.corr()`."
   ]
  },
  {
   "cell_type": "code",
   "execution_count": 20,
   "metadata": {},
   "outputs": [
    {
     "data": {
      "text/html": [
       "<div>\n",
       "<style scoped>\n",
       "    .dataframe tbody tr th:only-of-type {\n",
       "        vertical-align: middle;\n",
       "    }\n",
       "\n",
       "    .dataframe tbody tr th {\n",
       "        vertical-align: top;\n",
       "    }\n",
       "\n",
       "    .dataframe thead th {\n",
       "        text-align: right;\n",
       "    }\n",
       "</style>\n",
       "<table border=\"1\" class=\"dataframe\">\n",
       "  <thead>\n",
       "    <tr style=\"text-align: right;\">\n",
       "      <th></th>\n",
       "      <th>sqft_living</th>\n",
       "      <th>sqm_living</th>\n",
       "      <th>floors</th>\n",
       "    </tr>\n",
       "  </thead>\n",
       "  <tbody>\n",
       "    <tr>\n",
       "      <th>sqft_living</th>\n",
       "      <td>1.000000</td>\n",
       "      <td>1.000000</td>\n",
       "      <td>0.348178</td>\n",
       "    </tr>\n",
       "    <tr>\n",
       "      <th>sqm_living</th>\n",
       "      <td>1.000000</td>\n",
       "      <td>1.000000</td>\n",
       "      <td>0.348179</td>\n",
       "    </tr>\n",
       "    <tr>\n",
       "      <th>floors</th>\n",
       "      <td>0.348178</td>\n",
       "      <td>0.348179</td>\n",
       "      <td>1.000000</td>\n",
       "    </tr>\n",
       "  </tbody>\n",
       "</table>\n",
       "</div>"
      ],
      "text/plain": [
       "             sqft_living  sqm_living    floors\n",
       "sqft_living     1.000000    1.000000  0.348178\n",
       "sqm_living      1.000000    1.000000  0.348179\n",
       "floors          0.348178    0.348179  1.000000"
      ]
     },
     "execution_count": 20,
     "metadata": {},
     "output_type": "execute_result"
    }
   ],
   "source": [
    "x_all.corr()"
   ]
  },
  {
   "cell_type": "markdown",
   "metadata": {},
   "source": [
    "### Train Test Split\n",
    "\n",
    "Drop and filter to the valid predictors in the model as a DataFrame, `housing_df`. Conduct `train_test_split()` to get the four splits of data. "
   ]
  },
  {
   "cell_type": "code",
   "execution_count": 21,
   "metadata": {},
   "outputs": [],
   "source": [
    "from sklearn.model_selection import train_test_split\n",
    "# Since either SQFT or SQM are highly correlated, drop either one\n",
    "\n",
    "housing_x = x_all[['sqft_living', 'floors']]\n",
    "\n",
    "X_train, X_test, y_train, y_test = train_test_split(housing_x, y_all, random_state=42)"
   ]
  },
  {
   "cell_type": "markdown",
   "metadata": {},
   "source": [
    "### Fit Model\n",
    "\n",
    "Create a LinearRegression variable, `multi_housing_lr`. With the train dataframes, use `.fit()` to train the model."
   ]
  },
  {
   "cell_type": "code",
   "execution_count": 22,
   "metadata": {},
   "outputs": [
    {
     "data": {
      "text/plain": [
       "LinearRegression(copy_X=True, fit_intercept=True, n_jobs=None, normalize=False)"
      ]
     },
     "execution_count": 22,
     "metadata": {},
     "output_type": "execute_result"
    }
   ],
   "source": [
    "from sklearn import linear_model\n",
    "\n",
    "regression = linear_model.LinearRegression()\n",
    "\n",
    "regression.fit(X_train, y_train)\n",
    "\n"
   ]
  },
  {
   "cell_type": "markdown",
   "metadata": {},
   "source": [
    "### Interpret\n",
    "\n",
    "With the fitted model, interpret and create the linear equation of the model. "
   ]
  },
  {
   "cell_type": "code",
   "execution_count": 23,
   "metadata": {},
   "outputs": [
    {
     "name": "stdout",
     "output_type": "stream",
     "text": [
      "[[  274.0203467  12566.86687756]]\n",
      "[-48237.31783364]\n"
     ]
    }
   ],
   "source": [
    "print(regression.coef_)\n",
    "print(regression.intercept_)\n",
    "\n",
    "# Housing Price = -48237.317 + 274 (SQFT_Living) + 12566.866 (Floors)"
   ]
  },
  {
   "cell_type": "markdown",
   "metadata": {},
   "source": [
    "### Assess Performance of Model\n",
    "\n",
    "Using `r2_score` calculate the R-squared score of the model."
   ]
  },
  {
   "cell_type": "code",
   "execution_count": 26,
   "metadata": {},
   "outputs": [
    {
     "name": "stdout",
     "output_type": "stream",
     "text": [
      "r2_score 0.4947420580577476\n"
     ]
    }
   ],
   "source": [
    "from sklearn.metrics import r2_score \n",
    "\n",
    "fitted_values = regression.predict(X_test)\n",
    "print(\"r2_score\", r2_score(y_test, fitted_values))"
   ]
  },
  {
   "cell_type": "markdown",
   "metadata": {},
   "source": [
    "<a id='P2'><h2> <img src=\"https://cdn.shopify.com/s/files/1/1200/7374/products/book_aec28e76-52ec-44ab-bc01-41df1279c89f_550x825.png?v=1473897430\" width=25 align=\"left\"> <font color=\"darkorange\"> &nbsp; Practice II </font><font color=\"skyblue\"> * </font></h2></a>\n",
    "\n",
    "### Fitness Dataset\n",
    "\n",
    "Based on this fitness dataset, predict the `RunTime` based on the following predictors:\n",
    "\n",
    "1. Age\n",
    "2. Weight\n",
    "3. Oxygen_Consumption\n",
    "4. Run_Pulse\n",
    "5. Rest_Pulse\n",
    "6. Maximum_Pulse\n",
    "7. Performance\n",
    "\n",
    "### Read "
   ]
  },
  {
   "cell_type": "code",
   "execution_count": null,
   "metadata": {},
   "outputs": [],
   "source": []
  },
  {
   "cell_type": "markdown",
   "metadata": {},
   "source": [
    "### Feature Selection\n",
    "\n",
    "With the variables above, detect for multicollinearity and drop variables where necessary by using `.corr()`."
   ]
  },
  {
   "cell_type": "code",
   "execution_count": null,
   "metadata": {},
   "outputs": [],
   "source": []
  },
  {
   "cell_type": "markdown",
   "metadata": {},
   "source": [
    "### Train Test Split\n",
    "\n",
    "Based on the correlation matrix, fliter for the __valid__ predictor variables and do `train_test_split` with the target variable `RunTime`. "
   ]
  },
  {
   "cell_type": "code",
   "execution_count": null,
   "metadata": {},
   "outputs": [],
   "source": []
  },
  {
   "cell_type": "markdown",
   "metadata": {},
   "source": [
    "### Fit Model\n",
    "\n",
    "Using the train dataframes, create a LinearRegression variable called `multi_runtime_lr`. Use `.fit()`, train the model."
   ]
  },
  {
   "cell_type": "code",
   "execution_count": null,
   "metadata": {},
   "outputs": [],
   "source": []
  },
  {
   "cell_type": "markdown",
   "metadata": {},
   "source": [
    "### Interpret\n",
    "\n",
    "With the fitted model, interpret and create the linear equation of the model. "
   ]
  },
  {
   "cell_type": "code",
   "execution_count": null,
   "metadata": {},
   "outputs": [],
   "source": []
  },
  {
   "cell_type": "markdown",
   "metadata": {},
   "source": [
    "### Assess Performance of Model\n",
    "\n",
    "Using `r2_score` calculate the R-squared score of the model."
   ]
  },
  {
   "cell_type": "code",
   "execution_count": null,
   "metadata": {},
   "outputs": [],
   "source": []
  }
 ],
 "metadata": {
  "kernelspec": {
   "display_name": "Python 3",
   "language": "python",
   "name": "python3"
  },
  "language_info": {
   "codemirror_mode": {
    "name": "ipython",
    "version": 3
   },
   "file_extension": ".py",
   "mimetype": "text/x-python",
   "name": "python",
   "nbconvert_exporter": "python",
   "pygments_lexer": "ipython3",
   "version": "3.7.6"
  }
 },
 "nbformat": 4,
 "nbformat_minor": 2
}
