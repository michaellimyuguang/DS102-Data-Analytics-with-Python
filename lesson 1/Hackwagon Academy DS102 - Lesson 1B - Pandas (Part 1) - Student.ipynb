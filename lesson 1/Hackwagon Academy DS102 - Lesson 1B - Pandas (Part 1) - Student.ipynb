{
 "cells": [
  {
   "cell_type": "markdown",
   "metadata": {},
   "source": [
    "<center><img src=\"https://i2.wp.com/hackwagon.com/wp-content/uploads/2017/02/Logo-Web-Export.png?ssl=1\" width=200/></center>\n",
    "<h1> Hackwagon Academy DS102 Lesson 1B </h1>\n",
    "<h2> Pandas (Part 1)</h2> \n",
    "<h3> Lesson Outline </h3>\n",
    "\n",
    "- [Pandas](#Pandas)\n",
    "- 1. [Series & DataFrame](#1)\n",
    "    - 1.1 [Series](#1.1)\n",
    "        - 1.1.1 [Creation](#1.1.1)\n",
    "        - 1.1.2 [Indexing/Selection](#1.1.2)\n",
    "    - 1.2 [DataFrame](#1.2)\n",
    "        - 1.2.1 [Creation](#1.2.1)\n",
    "        - 1.2.2 [Indexing/Selection](#1.2.2)\n",
    "    - 1.3 [Manipulation](#1.3)\n",
    "        - 1.3.1 [Mathematical](#1.3.1)\n",
    "        - 1.3.2 [New/Renew Columns](#1.3.2)\n",
    "        - 1.3.3 [Sorting](#1.3.3)\n",
    "    - 1.4 [Descriptive Statistics](#1.4)\n",
    "- 2. [Merging Datasets](#2)\n",
    "    - 2.1 [.concat()](#2.1)\n",
    "    - [Practice I](#P1)\n",
    "- 3. [Filtering](#3)\n",
    "    - 3.1 [Boolean Array](#3.1)\n",
    "    - 3.2 [.isin()](#3.2)\n",
    "    - [Practice II](#P2)\n",
    "- 4. [Data Cleaning - Handling Missing Values](#4)\n",
    "    - 4.1 [.isnull()](#4.1)\n",
    "    - 4.2 [.dropna()](#4.2)\n",
    "    - 4.3 [.fillna()](#4.3)\n",
    "    - [Practice III](#P3)"
   ]
  },
  {
   "cell_type": "markdown",
   "metadata": {},
   "source": [
    "<hr/>\n",
    "\n",
    "<a id='1'><h2><img src=\"https://images.vexels.com/media/users/3/153978/isolated/preview/483ef8b10a46e28d02293a31570c8c56-warning-sign-colored-stroke-icon-by-vexels.png\" width=23 align=\"left\"><font color=\"salmon\">&nbsp;</font><font color=\"salmon\"> Pandas </font> </h2></a>\n",
    "\n",
    "Pandas is an enhanced version of the NumPy structured arrays in which the rows and columns are identified with labels, rather than simple integer indices. As such Pandas can be summarised in the following manner:\n",
    "\n",
    "<img src=\"https://i.imgur.com/39x4BDw.png\" width=600>"
   ]
  },
  {
   "cell_type": "code",
   "execution_count": 1,
   "metadata": {},
   "outputs": [],
   "source": [
    "import pandas as pd\n",
    "import numpy as np"
   ]
  },
  {
   "cell_type": "markdown",
   "metadata": {},
   "source": [
    "\n",
    "<a id='1'><h2><img src=\"https://images.vexels.com/media/users/3/153978/isolated/preview/483ef8b10a46e28d02293a31570c8c56-warning-sign-colored-stroke-icon-by-vexels.png\" width=23 align=\"left\"><font color=\"salmon\">&nbsp;1.</font><font color=\"salmon\"> Series & DataFrame </font> </h2></a>"
   ]
  },
  {
   "cell_type": "markdown",
   "metadata": {},
   "source": [
    "<a id='1.1'><h3>1.1 Series</h3></a>\n",
    "\n",
    "The Pandas Series is a one-dimensional array of indexed data. It can be created from a list or array. Think of them like a more versatile versions of lists."
   ]
  },
  {
   "cell_type": "markdown",
   "metadata": {},
   "source": [
    "<a id='1.1.1'><h3>1.1.1 Creation</h3></a>\n",
    "\n",
    "### Lists"
   ]
  },
  {
   "cell_type": "code",
   "execution_count": 3,
   "metadata": {},
   "outputs": [
    {
     "name": "stdout",
     "output_type": "stream",
     "text": [
      "0    10\n",
      "1    20\n",
      "2    30\n",
      "dtype: int64\n",
      "<class 'pandas.core.series.Series'>\n"
     ]
    }
   ],
   "source": [
    "counts = [10, 20, 30]\n",
    "\n",
    "sr = pd.Series(counts)\n",
    "\n",
    "print(sr)\n",
    "print(type(sr))"
   ]
  },
  {
   "cell_type": "markdown",
   "metadata": {},
   "source": [
    "### Dictionary "
   ]
  },
  {
   "cell_type": "code",
   "execution_count": 5,
   "metadata": {},
   "outputs": [
    {
     "name": "stdout",
     "output_type": "stream",
     "text": [
      "Apple       10\n",
      "Banana      20\n",
      "Cherries    30\n",
      "dtype: int64\n",
      "<class 'pandas.core.series.Series'>\n"
     ]
    },
    {
     "data": {
      "text/plain": [
       "30"
      ]
     },
     "execution_count": 5,
     "metadata": {},
     "output_type": "execute_result"
    }
   ],
   "source": [
    "fruit_counts = {\"Apple\": 10, \n",
    "                \"Banana\": 20, \n",
    "                \"Cherries\": 30}\n",
    "\n",
    "sr = pd.Series(fruit_counts)\n",
    "print(sr)\n",
    "print(type(sr))\n",
    "\n",
    "sr['Cherries']"
   ]
  },
  {
   "cell_type": "markdown",
   "metadata": {},
   "source": [
    "<a id='1.1.2'><h3>1.1.2 Indexing/Selecting</h3></a>\n",
    "\n",
    "Just select accessing a list, you can use the `[]` to access base on its index. "
   ]
  },
  {
   "cell_type": "code",
   "execution_count": 6,
   "metadata": {},
   "outputs": [
    {
     "data": {
      "text/plain": [
       "10"
      ]
     },
     "execution_count": 6,
     "metadata": {},
     "output_type": "execute_result"
    }
   ],
   "source": [
    "sr[0]"
   ]
  },
  {
   "cell_type": "markdown",
   "metadata": {},
   "source": [
    "<a id='1.2'><h3>1.2 DataFrame</h3></a>\n",
    "\n",
    "Think of DataFrames like overpowered Dictionaries with many powerful functionalities."
   ]
  },
  {
   "cell_type": "markdown",
   "metadata": {},
   "source": [
    "<a id='1.2.1'><h3>1.2.1 Creation</h3></a>\n",
    "\n",
    "### Python Collections"
   ]
  },
  {
   "cell_type": "code",
   "execution_count": 7,
   "metadata": {},
   "outputs": [
    {
     "data": {
      "text/html": [
       "<div>\n",
       "<style scoped>\n",
       "    .dataframe tbody tr th:only-of-type {\n",
       "        vertical-align: middle;\n",
       "    }\n",
       "\n",
       "    .dataframe tbody tr th {\n",
       "        vertical-align: top;\n",
       "    }\n",
       "\n",
       "    .dataframe thead th {\n",
       "        text-align: right;\n",
       "    }\n",
       "</style>\n",
       "<table border=\"1\" class=\"dataframe\">\n",
       "  <thead>\n",
       "    <tr style=\"text-align: right;\">\n",
       "      <th></th>\n",
       "      <th>name</th>\n",
       "      <th>age</th>\n",
       "      <th>salary</th>\n",
       "    </tr>\n",
       "  </thead>\n",
       "  <tbody>\n",
       "    <tr>\n",
       "      <th>0</th>\n",
       "      <td>Alex</td>\n",
       "      <td>20</td>\n",
       "      <td>1050</td>\n",
       "    </tr>\n",
       "    <tr>\n",
       "      <th>1</th>\n",
       "      <td>Bob</td>\n",
       "      <td>52</td>\n",
       "      <td>1400</td>\n",
       "    </tr>\n",
       "    <tr>\n",
       "      <th>2</th>\n",
       "      <td>Cat</td>\n",
       "      <td>23</td>\n",
       "      <td>1690</td>\n",
       "    </tr>\n",
       "  </tbody>\n",
       "</table>\n",
       "</div>"
      ],
      "text/plain": [
       "   name  age  salary\n",
       "0  Alex   20    1050\n",
       "1   Bob   52    1400\n",
       "2   Cat   23    1690"
      ]
     },
     "execution_count": 7,
     "metadata": {},
     "output_type": "execute_result"
    }
   ],
   "source": [
    "data = [\n",
    "    # column 1       column 2   column 3\n",
    "    {'name': 'Alex', 'age': 20, 'salary': 1050},  #row 1\n",
    "    {'name': 'Bob', 'age': 52, 'salary': 1400}, #row 2\n",
    "    {'name': 'Cat', 'age': 23, 'salary': 1690} #row 3\n",
    "]\n",
    "\n",
    "df = pd.DataFrame(data)\n",
    "df\n"
   ]
  },
  {
   "cell_type": "markdown",
   "metadata": {},
   "source": [
    "### Datasets\n",
    "\n",
    "To manipulate data as a `DataFrame`, use `pd.read_csv()` to read the CSV file into a `DataFrame`. Refer to the documentation [here](https://pandas.pydata.org/pandas-docs/stable/generated/pandas.read_csv.html#pandas.read_csv). For the next few examples, we will be using the `HWAPandasSandbox.csv` dataset, as `feedback_df`."
   ]
  },
  {
   "cell_type": "code",
   "execution_count": 10,
   "metadata": {},
   "outputs": [
    {
     "data": {
      "text/html": [
       "<div>\n",
       "<style scoped>\n",
       "    .dataframe tbody tr th:only-of-type {\n",
       "        vertical-align: middle;\n",
       "    }\n",
       "\n",
       "    .dataframe tbody tr th {\n",
       "        vertical-align: top;\n",
       "    }\n",
       "\n",
       "    .dataframe thead th {\n",
       "        text-align: right;\n",
       "    }\n",
       "</style>\n",
       "<table border=\"1\" class=\"dataframe\">\n",
       "  <thead>\n",
       "    <tr style=\"text-align: right;\">\n",
       "      <th></th>\n",
       "      <th>ClassID</th>\n",
       "      <th>ClassType</th>\n",
       "      <th>Co-Instructor</th>\n",
       "      <th>Coordinating_TA</th>\n",
       "      <th>Instructor</th>\n",
       "      <th>Rating</th>\n",
       "      <th>Students</th>\n",
       "    </tr>\n",
       "  </thead>\n",
       "  <tbody>\n",
       "    <tr>\n",
       "      <th>0</th>\n",
       "      <td>1</td>\n",
       "      <td>DS101</td>\n",
       "      <td>False</td>\n",
       "      <td>Dick</td>\n",
       "      <td>Jon</td>\n",
       "      <td>Nil</td>\n",
       "      <td>40</td>\n",
       "    </tr>\n",
       "    <tr>\n",
       "      <th>1</th>\n",
       "      <td>2</td>\n",
       "      <td>DS101</td>\n",
       "      <td>True</td>\n",
       "      <td>Vera</td>\n",
       "      <td>Andre</td>\n",
       "      <td>7</td>\n",
       "      <td>43</td>\n",
       "    </tr>\n",
       "    <tr>\n",
       "      <th>2</th>\n",
       "      <td>3</td>\n",
       "      <td>DS102</td>\n",
       "      <td>False</td>\n",
       "      <td>Vera</td>\n",
       "      <td>Jon</td>\n",
       "      <td>9</td>\n",
       "      <td>41</td>\n",
       "    </tr>\n",
       "    <tr>\n",
       "      <th>3</th>\n",
       "      <td>4</td>\n",
       "      <td>DS102</td>\n",
       "      <td>True</td>\n",
       "      <td>Dick</td>\n",
       "      <td>Andre</td>\n",
       "      <td>Nope</td>\n",
       "      <td>44</td>\n",
       "    </tr>\n",
       "    <tr>\n",
       "      <th>4</th>\n",
       "      <td>5</td>\n",
       "      <td>DS101</td>\n",
       "      <td>True</td>\n",
       "      <td>Dick</td>\n",
       "      <td>Andre</td>\n",
       "      <td>10</td>\n",
       "      <td>45</td>\n",
       "    </tr>\n",
       "  </tbody>\n",
       "</table>\n",
       "</div>"
      ],
      "text/plain": [
       "   ClassID ClassType  Co-Instructor Coordinating_TA Instructor Rating  \\\n",
       "0        1     DS101          False            Dick        Jon    Nil   \n",
       "1        2     DS101           True            Vera      Andre      7   \n",
       "2        3     DS102          False            Vera        Jon      9   \n",
       "3        4     DS102           True            Dick      Andre   Nope   \n",
       "4        5     DS101           True            Dick      Andre     10   \n",
       "\n",
       "   Students  \n",
       "0        40  \n",
       "1        43  \n",
       "2        41  \n",
       "3        44  \n",
       "4        45  "
      ]
     },
     "execution_count": 10,
     "metadata": {},
     "output_type": "execute_result"
    }
   ],
   "source": [
    "df = pd.read_csv(r\"HWAPandasSandbox.csv\")\n",
    "df"
   ]
  },
  {
   "cell_type": "markdown",
   "metadata": {},
   "source": [
    "<a id='1.2.2'><h3>1.2.2 Indexing/Selecting</h3></a>\n",
    "\n",
    "DataFrames are many Series stacked on top of another. Again, similar to how you use keys in dictionaries, you can just select the columns by their names (case sensitive).\n",
    "\n",
    "#### One Column\n",
    "\n",
    "By acccessing just one column/row, you get a <b>Series</b>."
   ]
  },
  {
   "cell_type": "code",
   "execution_count": 11,
   "metadata": {},
   "outputs": [
    {
     "data": {
      "text/plain": [
       "0    1\n",
       "1    2\n",
       "2    3\n",
       "3    4\n",
       "4    5\n",
       "Name: ClassID, dtype: int64"
      ]
     },
     "execution_count": 11,
     "metadata": {},
     "output_type": "execute_result"
    }
   ],
   "source": [
    "df['ClassID']"
   ]
  },
  {
   "cell_type": "markdown",
   "metadata": {},
   "source": [
    "#### Multiple Columns\n",
    "\n",
    "By acccessing just more than one column/row, you get a <b>DataFrame</b>.\n",
    "\n",
    "To select multiple columns, use a list instead which also allows you to reorganise the column orders."
   ]
  },
  {
   "cell_type": "code",
   "execution_count": 12,
   "metadata": {},
   "outputs": [
    {
     "data": {
      "text/html": [
       "<div>\n",
       "<style scoped>\n",
       "    .dataframe tbody tr th:only-of-type {\n",
       "        vertical-align: middle;\n",
       "    }\n",
       "\n",
       "    .dataframe tbody tr th {\n",
       "        vertical-align: top;\n",
       "    }\n",
       "\n",
       "    .dataframe thead th {\n",
       "        text-align: right;\n",
       "    }\n",
       "</style>\n",
       "<table border=\"1\" class=\"dataframe\">\n",
       "  <thead>\n",
       "    <tr style=\"text-align: right;\">\n",
       "      <th></th>\n",
       "      <th>ClassType</th>\n",
       "      <th>Instructor</th>\n",
       "      <th>Coordinating_TA</th>\n",
       "    </tr>\n",
       "  </thead>\n",
       "  <tbody>\n",
       "    <tr>\n",
       "      <th>0</th>\n",
       "      <td>DS101</td>\n",
       "      <td>Jon</td>\n",
       "      <td>Dick</td>\n",
       "    </tr>\n",
       "    <tr>\n",
       "      <th>1</th>\n",
       "      <td>DS101</td>\n",
       "      <td>Andre</td>\n",
       "      <td>Vera</td>\n",
       "    </tr>\n",
       "    <tr>\n",
       "      <th>2</th>\n",
       "      <td>DS102</td>\n",
       "      <td>Jon</td>\n",
       "      <td>Vera</td>\n",
       "    </tr>\n",
       "    <tr>\n",
       "      <th>3</th>\n",
       "      <td>DS102</td>\n",
       "      <td>Andre</td>\n",
       "      <td>Dick</td>\n",
       "    </tr>\n",
       "    <tr>\n",
       "      <th>4</th>\n",
       "      <td>DS101</td>\n",
       "      <td>Andre</td>\n",
       "      <td>Dick</td>\n",
       "    </tr>\n",
       "  </tbody>\n",
       "</table>\n",
       "</div>"
      ],
      "text/plain": [
       "  ClassType Instructor Coordinating_TA\n",
       "0     DS101        Jon            Dick\n",
       "1     DS101      Andre            Vera\n",
       "2     DS102        Jon            Vera\n",
       "3     DS102      Andre            Dick\n",
       "4     DS101      Andre            Dick"
      ]
     },
     "execution_count": 12,
     "metadata": {},
     "output_type": "execute_result"
    }
   ],
   "source": [
    "columns_to_select = ['ClassType', 'Instructor', 'Coordinating_TA']\n",
    "df[columns_to_select]"
   ]
  },
  {
   "cell_type": "markdown",
   "metadata": {},
   "source": [
    "#### Row Wise Selection\n",
    "\n",
    "To select row wise, use `.iloc[]` meaning Integer Locate where it selects by the row number (index).\n",
    "\n",
    "If you want to select by a non numeric index, use `.loc[]`"
   ]
  },
  {
   "cell_type": "code",
   "execution_count": 13,
   "metadata": {},
   "outputs": [
    {
     "data": {
      "text/html": [
       "<div>\n",
       "<style scoped>\n",
       "    .dataframe tbody tr th:only-of-type {\n",
       "        vertical-align: middle;\n",
       "    }\n",
       "\n",
       "    .dataframe tbody tr th {\n",
       "        vertical-align: top;\n",
       "    }\n",
       "\n",
       "    .dataframe thead th {\n",
       "        text-align: right;\n",
       "    }\n",
       "</style>\n",
       "<table border=\"1\" class=\"dataframe\">\n",
       "  <thead>\n",
       "    <tr style=\"text-align: right;\">\n",
       "      <th></th>\n",
       "      <th>ClassID</th>\n",
       "      <th>ClassType</th>\n",
       "      <th>Co-Instructor</th>\n",
       "      <th>Coordinating_TA</th>\n",
       "      <th>Instructor</th>\n",
       "      <th>Rating</th>\n",
       "      <th>Students</th>\n",
       "    </tr>\n",
       "  </thead>\n",
       "  <tbody>\n",
       "    <tr>\n",
       "      <th>0</th>\n",
       "      <td>1</td>\n",
       "      <td>DS101</td>\n",
       "      <td>False</td>\n",
       "      <td>Dick</td>\n",
       "      <td>Jon</td>\n",
       "      <td>Nil</td>\n",
       "      <td>40</td>\n",
       "    </tr>\n",
       "    <tr>\n",
       "      <th>1</th>\n",
       "      <td>2</td>\n",
       "      <td>DS101</td>\n",
       "      <td>True</td>\n",
       "      <td>Vera</td>\n",
       "      <td>Andre</td>\n",
       "      <td>7</td>\n",
       "      <td>43</td>\n",
       "    </tr>\n",
       "    <tr>\n",
       "      <th>2</th>\n",
       "      <td>3</td>\n",
       "      <td>DS102</td>\n",
       "      <td>False</td>\n",
       "      <td>Vera</td>\n",
       "      <td>Jon</td>\n",
       "      <td>9</td>\n",
       "      <td>41</td>\n",
       "    </tr>\n",
       "    <tr>\n",
       "      <th>3</th>\n",
       "      <td>4</td>\n",
       "      <td>DS102</td>\n",
       "      <td>True</td>\n",
       "      <td>Dick</td>\n",
       "      <td>Andre</td>\n",
       "      <td>Nope</td>\n",
       "      <td>44</td>\n",
       "    </tr>\n",
       "    <tr>\n",
       "      <th>4</th>\n",
       "      <td>5</td>\n",
       "      <td>DS101</td>\n",
       "      <td>True</td>\n",
       "      <td>Dick</td>\n",
       "      <td>Andre</td>\n",
       "      <td>10</td>\n",
       "      <td>45</td>\n",
       "    </tr>\n",
       "  </tbody>\n",
       "</table>\n",
       "</div>"
      ],
      "text/plain": [
       "   ClassID ClassType  Co-Instructor Coordinating_TA Instructor Rating  \\\n",
       "0        1     DS101          False            Dick        Jon    Nil   \n",
       "1        2     DS101           True            Vera      Andre      7   \n",
       "2        3     DS102          False            Vera        Jon      9   \n",
       "3        4     DS102           True            Dick      Andre   Nope   \n",
       "4        5     DS101           True            Dick      Andre     10   \n",
       "\n",
       "   Students  \n",
       "0        40  \n",
       "1        43  \n",
       "2        41  \n",
       "3        44  \n",
       "4        45  "
      ]
     },
     "execution_count": 13,
     "metadata": {},
     "output_type": "execute_result"
    }
   ],
   "source": [
    "df.head()"
   ]
  },
  {
   "cell_type": "markdown",
   "metadata": {},
   "source": [
    "<a id='1.3'><h3>1.3 Manipulation</h3></a>\n",
    "\n",
    "Similar to how Numpy arrays can be manipulated for different results, DataFrames can also be manipulated in the same way."
   ]
  },
  {
   "cell_type": "markdown",
   "metadata": {},
   "source": [
    "<a id='1.3.1'><h3>1.3.1 Mathematical</h3></a>\n",
    "\n",
    "Since Pandas is built to integrate with Numpy, you can notice the similiarities here. We can extract a Series and use mathematical operators on them."
   ]
  },
  {
   "cell_type": "code",
   "execution_count": 19,
   "metadata": {},
   "outputs": [
    {
     "data": {
      "text/plain": [
       "0    45\n",
       "1    48\n",
       "2    46\n",
       "3    49\n",
       "4    50\n",
       "Name: Students, dtype: int64"
      ]
     },
     "execution_count": 19,
     "metadata": {},
     "output_type": "execute_result"
    }
   ],
   "source": [
    "df['Students'] + 5"
   ]
  },
  {
   "cell_type": "markdown",
   "metadata": {},
   "source": [
    "#### More than one column\n",
    "\n",
    "We can use two or more columns to do mathematical operations."
   ]
  },
  {
   "cell_type": "code",
   "execution_count": 20,
   "metadata": {},
   "outputs": [
    {
     "data": {
      "text/plain": [
       "0    80\n",
       "1    86\n",
       "2    82\n",
       "3    88\n",
       "4    90\n",
       "Name: Students, dtype: int64"
      ]
     },
     "execution_count": 20,
     "metadata": {},
     "output_type": "execute_result"
    }
   ],
   "source": [
    "df['Students'] + df['Students']"
   ]
  },
  {
   "cell_type": "markdown",
   "metadata": {},
   "source": [
    "<a id='1.3.2'><h3>1.3.2 Creating New/Renewing Columns</h3></a>\n",
    "\n",
    "We can also create new columns to the DataFrame.\n",
    "\n",
    "```python\n",
    "    dataframe_to_update['new column name'] = new_series\n",
    "```"
   ]
  },
  {
   "cell_type": "code",
   "execution_count": 24,
   "metadata": {},
   "outputs": [
    {
     "data": {
      "text/html": [
       "<div>\n",
       "<style scoped>\n",
       "    .dataframe tbody tr th:only-of-type {\n",
       "        vertical-align: middle;\n",
       "    }\n",
       "\n",
       "    .dataframe tbody tr th {\n",
       "        vertical-align: top;\n",
       "    }\n",
       "\n",
       "    .dataframe thead th {\n",
       "        text-align: right;\n",
       "    }\n",
       "</style>\n",
       "<table border=\"1\" class=\"dataframe\">\n",
       "  <thead>\n",
       "    <tr style=\"text-align: right;\">\n",
       "      <th></th>\n",
       "      <th>ClassID</th>\n",
       "      <th>ClassType</th>\n",
       "      <th>Co-Instructor</th>\n",
       "      <th>Coordinating_TA</th>\n",
       "      <th>Instructor</th>\n",
       "      <th>Rating</th>\n",
       "      <th>Students</th>\n",
       "      <th>students_x2</th>\n",
       "    </tr>\n",
       "  </thead>\n",
       "  <tbody>\n",
       "    <tr>\n",
       "      <th>0</th>\n",
       "      <td>1</td>\n",
       "      <td>DS101</td>\n",
       "      <td>False</td>\n",
       "      <td>Dick</td>\n",
       "      <td>Jon</td>\n",
       "      <td>Nil</td>\n",
       "      <td>40</td>\n",
       "      <td>80</td>\n",
       "    </tr>\n",
       "    <tr>\n",
       "      <th>1</th>\n",
       "      <td>2</td>\n",
       "      <td>DS101</td>\n",
       "      <td>True</td>\n",
       "      <td>Vera</td>\n",
       "      <td>Andre</td>\n",
       "      <td>7</td>\n",
       "      <td>43</td>\n",
       "      <td>86</td>\n",
       "    </tr>\n",
       "    <tr>\n",
       "      <th>2</th>\n",
       "      <td>3</td>\n",
       "      <td>DS102</td>\n",
       "      <td>False</td>\n",
       "      <td>Vera</td>\n",
       "      <td>Jon</td>\n",
       "      <td>9</td>\n",
       "      <td>41</td>\n",
       "      <td>82</td>\n",
       "    </tr>\n",
       "    <tr>\n",
       "      <th>3</th>\n",
       "      <td>4</td>\n",
       "      <td>DS102</td>\n",
       "      <td>True</td>\n",
       "      <td>Dick</td>\n",
       "      <td>Andre</td>\n",
       "      <td>Nope</td>\n",
       "      <td>44</td>\n",
       "      <td>88</td>\n",
       "    </tr>\n",
       "    <tr>\n",
       "      <th>4</th>\n",
       "      <td>5</td>\n",
       "      <td>DS101</td>\n",
       "      <td>True</td>\n",
       "      <td>Dick</td>\n",
       "      <td>Andre</td>\n",
       "      <td>10</td>\n",
       "      <td>45</td>\n",
       "      <td>90</td>\n",
       "    </tr>\n",
       "  </tbody>\n",
       "</table>\n",
       "</div>"
      ],
      "text/plain": [
       "   ClassID ClassType  Co-Instructor Coordinating_TA Instructor Rating  \\\n",
       "0        1     DS101          False            Dick        Jon    Nil   \n",
       "1        2     DS101           True            Vera      Andre      7   \n",
       "2        3     DS102          False            Vera        Jon      9   \n",
       "3        4     DS102           True            Dick      Andre   Nope   \n",
       "4        5     DS101           True            Dick      Andre     10   \n",
       "\n",
       "   Students  students_x2  \n",
       "0        40           80  \n",
       "1        43           86  \n",
       "2        41           82  \n",
       "3        44           88  \n",
       "4        45           90  "
      ]
     },
     "execution_count": 24,
     "metadata": {},
     "output_type": "execute_result"
    }
   ],
   "source": [
    "df['students_x2'] = df['Students'] + df['Students']\n",
    "df"
   ]
  },
  {
   "cell_type": "markdown",
   "metadata": {},
   "source": [
    "<a id='1.3.3'><h3>1.3.3 Sorting</h3></a>\n",
    "\n",
    "We can also sort by a particular column using the `.sort_values()`. Inside this method, the `by=` argument allows you to pick the column(s) you want to sort by; the `ascending=` argument allows you to choose whether to have it in ascending or descending order."
   ]
  },
  {
   "cell_type": "code",
   "execution_count": 40,
   "metadata": {},
   "outputs": [
    {
     "data": {
      "text/html": [
       "<div>\n",
       "<style scoped>\n",
       "    .dataframe tbody tr th:only-of-type {\n",
       "        vertical-align: middle;\n",
       "    }\n",
       "\n",
       "    .dataframe tbody tr th {\n",
       "        vertical-align: top;\n",
       "    }\n",
       "\n",
       "    .dataframe thead th {\n",
       "        text-align: right;\n",
       "    }\n",
       "</style>\n",
       "<table border=\"1\" class=\"dataframe\">\n",
       "  <thead>\n",
       "    <tr style=\"text-align: right;\">\n",
       "      <th></th>\n",
       "      <th>ClassID</th>\n",
       "      <th>ClassType</th>\n",
       "      <th>Co-Instructor</th>\n",
       "      <th>Coordinating_TA</th>\n",
       "      <th>Instructor</th>\n",
       "      <th>Rating</th>\n",
       "      <th>Students</th>\n",
       "      <th>students_x2</th>\n",
       "    </tr>\n",
       "  </thead>\n",
       "  <tbody>\n",
       "    <tr>\n",
       "      <th>0</th>\n",
       "      <td>1</td>\n",
       "      <td>DS101</td>\n",
       "      <td>False</td>\n",
       "      <td>Dick</td>\n",
       "      <td>Jon</td>\n",
       "      <td>Nil</td>\n",
       "      <td>40</td>\n",
       "      <td>80</td>\n",
       "    </tr>\n",
       "    <tr>\n",
       "      <th>2</th>\n",
       "      <td>3</td>\n",
       "      <td>DS102</td>\n",
       "      <td>False</td>\n",
       "      <td>Vera</td>\n",
       "      <td>Jon</td>\n",
       "      <td>9</td>\n",
       "      <td>41</td>\n",
       "      <td>82</td>\n",
       "    </tr>\n",
       "    <tr>\n",
       "      <th>1</th>\n",
       "      <td>2</td>\n",
       "      <td>DS101</td>\n",
       "      <td>True</td>\n",
       "      <td>Vera</td>\n",
       "      <td>Andre</td>\n",
       "      <td>7</td>\n",
       "      <td>43</td>\n",
       "      <td>86</td>\n",
       "    </tr>\n",
       "    <tr>\n",
       "      <th>3</th>\n",
       "      <td>4</td>\n",
       "      <td>DS102</td>\n",
       "      <td>True</td>\n",
       "      <td>Dick</td>\n",
       "      <td>Andre</td>\n",
       "      <td>Nope</td>\n",
       "      <td>44</td>\n",
       "      <td>88</td>\n",
       "    </tr>\n",
       "    <tr>\n",
       "      <th>4</th>\n",
       "      <td>5</td>\n",
       "      <td>DS101</td>\n",
       "      <td>True</td>\n",
       "      <td>Dick</td>\n",
       "      <td>Andre</td>\n",
       "      <td>10</td>\n",
       "      <td>45</td>\n",
       "      <td>90</td>\n",
       "    </tr>\n",
       "  </tbody>\n",
       "</table>\n",
       "</div>"
      ],
      "text/plain": [
       "   ClassID ClassType  Co-Instructor Coordinating_TA Instructor Rating  \\\n",
       "0        1     DS101          False            Dick        Jon    Nil   \n",
       "2        3     DS102          False            Vera        Jon      9   \n",
       "1        2     DS101           True            Vera      Andre      7   \n",
       "3        4     DS102           True            Dick      Andre   Nope   \n",
       "4        5     DS101           True            Dick      Andre     10   \n",
       "\n",
       "   Students  students_x2  \n",
       "0        40           80  \n",
       "2        41           82  \n",
       "1        43           86  \n",
       "3        44           88  \n",
       "4        45           90  "
      ]
     },
     "execution_count": 40,
     "metadata": {},
     "output_type": "execute_result"
    }
   ],
   "source": [
    "df.sort_values(\"Students\")"
   ]
  },
  {
   "cell_type": "markdown",
   "metadata": {},
   "source": [
    "<a id='1.1'><h3>1.4 Descriptive Statistics</h3></a>\n",
    "\n",
    "`Dataframes` and `Series` objects have many useful methods to help you compute statistics.\n",
    "\n",
    "<table>\n",
    "  <tr>\n",
    "    <th>Statistical measure</th>\n",
    "    <th>Dataframe method</th>\n",
    "    <th>Series method</th>\n",
    "    <th>Description</th>\n",
    "  </tr>\n",
    "  <tr>\n",
    "    <td>Mean</td>\n",
    "    <td>df.mean()</td>\n",
    "    <td>df['column_name'].mean()</td>\n",
    "    <td>Returns the mean of all columns / the selected column</td>\n",
    "  </tr>\n",
    "  <tr>\n",
    "    <td>Median</td>\n",
    "    <td>df.median()</td>\n",
    "    <td>df['column_name'].median()</td>\n",
    "    <td>Returns the median of all columns / the selected column</td>\n",
    "  </tr>\n",
    "  <tr>\n",
    "    <td>Standard Deviation</td>\n",
    "    <td>df.std()</td>\n",
    "    <td>df['column_name'].std()</td>\n",
    "    <td>Returns the standard deviation of all columns / the selected column</td>\n",
    "  </tr>\n",
    "  <tr>\n",
    "    <td>Sum</td>\n",
    "    <td>df.sum()</td>\n",
    "    <td>df['column_name'].std()</td>\n",
    "    <td>Returns the sum of all columns / the selected column</td>\n",
    "  </tr>\n",
    "  <tr>\n",
    "    <td>...</td>\n",
    "    <td>...</td>\n",
    "    <td>...</td>\n",
    "    <td>...</td>\n",
    "  </tr>\n",
    "</table>\n",
    "\n",
    "The `.describe()` is able to provide the five-number-summary of the entire dataset."
   ]
  },
  {
   "cell_type": "code",
   "execution_count": 30,
   "metadata": {},
   "outputs": [
    {
     "data": {
      "text/html": [
       "<div>\n",
       "<style scoped>\n",
       "    .dataframe tbody tr th:only-of-type {\n",
       "        vertical-align: middle;\n",
       "    }\n",
       "\n",
       "    .dataframe tbody tr th {\n",
       "        vertical-align: top;\n",
       "    }\n",
       "\n",
       "    .dataframe thead th {\n",
       "        text-align: right;\n",
       "    }\n",
       "</style>\n",
       "<table border=\"1\" class=\"dataframe\">\n",
       "  <thead>\n",
       "    <tr style=\"text-align: right;\">\n",
       "      <th></th>\n",
       "      <th>ClassID</th>\n",
       "      <th>Students</th>\n",
       "      <th>students_x2</th>\n",
       "    </tr>\n",
       "  </thead>\n",
       "  <tbody>\n",
       "    <tr>\n",
       "      <th>count</th>\n",
       "      <td>5.000000</td>\n",
       "      <td>5.000000</td>\n",
       "      <td>5.000000</td>\n",
       "    </tr>\n",
       "    <tr>\n",
       "      <th>mean</th>\n",
       "      <td>3.000000</td>\n",
       "      <td>42.600000</td>\n",
       "      <td>85.200000</td>\n",
       "    </tr>\n",
       "    <tr>\n",
       "      <th>std</th>\n",
       "      <td>1.581139</td>\n",
       "      <td>2.073644</td>\n",
       "      <td>4.147288</td>\n",
       "    </tr>\n",
       "    <tr>\n",
       "      <th>min</th>\n",
       "      <td>1.000000</td>\n",
       "      <td>40.000000</td>\n",
       "      <td>80.000000</td>\n",
       "    </tr>\n",
       "    <tr>\n",
       "      <th>25%</th>\n",
       "      <td>2.000000</td>\n",
       "      <td>41.000000</td>\n",
       "      <td>82.000000</td>\n",
       "    </tr>\n",
       "    <tr>\n",
       "      <th>50%</th>\n",
       "      <td>3.000000</td>\n",
       "      <td>43.000000</td>\n",
       "      <td>86.000000</td>\n",
       "    </tr>\n",
       "    <tr>\n",
       "      <th>75%</th>\n",
       "      <td>4.000000</td>\n",
       "      <td>44.000000</td>\n",
       "      <td>88.000000</td>\n",
       "    </tr>\n",
       "    <tr>\n",
       "      <th>max</th>\n",
       "      <td>5.000000</td>\n",
       "      <td>45.000000</td>\n",
       "      <td>90.000000</td>\n",
       "    </tr>\n",
       "  </tbody>\n",
       "</table>\n",
       "</div>"
      ],
      "text/plain": [
       "        ClassID   Students  students_x2\n",
       "count  5.000000   5.000000     5.000000\n",
       "mean   3.000000  42.600000    85.200000\n",
       "std    1.581139   2.073644     4.147288\n",
       "min    1.000000  40.000000    80.000000\n",
       "25%    2.000000  41.000000    82.000000\n",
       "50%    3.000000  43.000000    86.000000\n",
       "75%    4.000000  44.000000    88.000000\n",
       "max    5.000000  45.000000    90.000000"
      ]
     },
     "execution_count": 30,
     "metadata": {},
     "output_type": "execute_result"
    }
   ],
   "source": [
    "df.describe()"
   ]
  },
  {
   "cell_type": "markdown",
   "metadata": {},
   "source": [
    "<a id='2'><h2><img src=\"https://images.vexels.com/media/users/3/153978/isolated/preview/483ef8b10a46e28d02293a31570c8c56-warning-sign-colored-stroke-icon-by-vexels.png\" width=23 align=\"left\"><font color=\"salmon\">&nbsp;2.</font><font color=\"salmon\"> Merging Datasets </font> </h2></a>\n",
    "\n",
    "During the course of DS102, you might want to merge several datasets together in order to make your analysis more wellrounded. Pandas provides you with methods to merge datasets together. One of the most common ways is `.concat()`.  "
   ]
  },
  {
   "cell_type": "markdown",
   "metadata": {},
   "source": [
    "<a id='2.1'><h3>2.1 <code>.concat()</code></h3></a>\n",
    "\n",
    "By using concat, we can merge two dataframes together to give us a bigger dataframe, using `pd.concat()`.\n",
    "\n",
    "```python\n",
    "    pd.concat([df1, df2 ...])\n",
    "```"
   ]
  },
  {
   "cell_type": "code",
   "execution_count": 31,
   "metadata": {},
   "outputs": [
    {
     "data": {
      "text/html": [
       "<div>\n",
       "<style scoped>\n",
       "    .dataframe tbody tr th:only-of-type {\n",
       "        vertical-align: middle;\n",
       "    }\n",
       "\n",
       "    .dataframe tbody tr th {\n",
       "        vertical-align: top;\n",
       "    }\n",
       "\n",
       "    .dataframe thead th {\n",
       "        text-align: right;\n",
       "    }\n",
       "</style>\n",
       "<table border=\"1\" class=\"dataframe\">\n",
       "  <thead>\n",
       "    <tr style=\"text-align: right;\">\n",
       "      <th></th>\n",
       "      <th>ClassID</th>\n",
       "      <th>ClassType</th>\n",
       "      <th>Co-Instructor</th>\n",
       "      <th>Coordinating_TA</th>\n",
       "      <th>Instructor</th>\n",
       "      <th>Rating</th>\n",
       "      <th>Students</th>\n",
       "    </tr>\n",
       "  </thead>\n",
       "  <tbody>\n",
       "    <tr>\n",
       "      <th>0</th>\n",
       "      <td>1</td>\n",
       "      <td>DS101</td>\n",
       "      <td>False</td>\n",
       "      <td>Dick</td>\n",
       "      <td>Jon</td>\n",
       "      <td>Nil</td>\n",
       "      <td>40</td>\n",
       "    </tr>\n",
       "    <tr>\n",
       "      <th>1</th>\n",
       "      <td>2</td>\n",
       "      <td>DS101</td>\n",
       "      <td>True</td>\n",
       "      <td>Vera</td>\n",
       "      <td>Andre</td>\n",
       "      <td>7</td>\n",
       "      <td>43</td>\n",
       "    </tr>\n",
       "    <tr>\n",
       "      <th>2</th>\n",
       "      <td>3</td>\n",
       "      <td>DS102</td>\n",
       "      <td>False</td>\n",
       "      <td>Vera</td>\n",
       "      <td>Jon</td>\n",
       "      <td>9</td>\n",
       "      <td>41</td>\n",
       "    </tr>\n",
       "    <tr>\n",
       "      <th>3</th>\n",
       "      <td>4</td>\n",
       "      <td>DS102</td>\n",
       "      <td>True</td>\n",
       "      <td>Dick</td>\n",
       "      <td>Andre</td>\n",
       "      <td>Nope</td>\n",
       "      <td>44</td>\n",
       "    </tr>\n",
       "    <tr>\n",
       "      <th>4</th>\n",
       "      <td>5</td>\n",
       "      <td>DS101</td>\n",
       "      <td>True</td>\n",
       "      <td>Dick</td>\n",
       "      <td>Andre</td>\n",
       "      <td>10</td>\n",
       "      <td>45</td>\n",
       "    </tr>\n",
       "    <tr>\n",
       "      <th>0</th>\n",
       "      <td>1</td>\n",
       "      <td>DS101</td>\n",
       "      <td>False</td>\n",
       "      <td>Dick</td>\n",
       "      <td>Jon</td>\n",
       "      <td>Nil</td>\n",
       "      <td>40</td>\n",
       "    </tr>\n",
       "    <tr>\n",
       "      <th>1</th>\n",
       "      <td>2</td>\n",
       "      <td>DS101</td>\n",
       "      <td>True</td>\n",
       "      <td>Vera</td>\n",
       "      <td>Andre</td>\n",
       "      <td>7</td>\n",
       "      <td>43</td>\n",
       "    </tr>\n",
       "    <tr>\n",
       "      <th>2</th>\n",
       "      <td>3</td>\n",
       "      <td>DS102</td>\n",
       "      <td>False</td>\n",
       "      <td>Vera</td>\n",
       "      <td>Jon</td>\n",
       "      <td>9</td>\n",
       "      <td>41</td>\n",
       "    </tr>\n",
       "    <tr>\n",
       "      <th>3</th>\n",
       "      <td>4</td>\n",
       "      <td>DS102</td>\n",
       "      <td>True</td>\n",
       "      <td>Dick</td>\n",
       "      <td>Andre</td>\n",
       "      <td>Nope</td>\n",
       "      <td>44</td>\n",
       "    </tr>\n",
       "    <tr>\n",
       "      <th>4</th>\n",
       "      <td>5</td>\n",
       "      <td>DS101</td>\n",
       "      <td>True</td>\n",
       "      <td>Dick</td>\n",
       "      <td>Andre</td>\n",
       "      <td>10</td>\n",
       "      <td>45</td>\n",
       "    </tr>\n",
       "  </tbody>\n",
       "</table>\n",
       "</div>"
      ],
      "text/plain": [
       "   ClassID ClassType  Co-Instructor Coordinating_TA Instructor Rating  \\\n",
       "0        1     DS101          False            Dick        Jon    Nil   \n",
       "1        2     DS101           True            Vera      Andre      7   \n",
       "2        3     DS102          False            Vera        Jon      9   \n",
       "3        4     DS102           True            Dick      Andre   Nope   \n",
       "4        5     DS101           True            Dick      Andre     10   \n",
       "0        1     DS101          False            Dick        Jon    Nil   \n",
       "1        2     DS101           True            Vera      Andre      7   \n",
       "2        3     DS102          False            Vera        Jon      9   \n",
       "3        4     DS102           True            Dick      Andre   Nope   \n",
       "4        5     DS101           True            Dick      Andre     10   \n",
       "\n",
       "   Students  \n",
       "0        40  \n",
       "1        43  \n",
       "2        41  \n",
       "3        44  \n",
       "4        45  \n",
       "0        40  \n",
       "1        43  \n",
       "2        41  \n",
       "3        44  \n",
       "4        45  "
      ]
     },
     "execution_count": 31,
     "metadata": {},
     "output_type": "execute_result"
    }
   ],
   "source": [
    "feedback_1 = pd.read_csv('HWAPandasSandbox.csv')\n",
    "feedback_2 = pd.read_csv('HWAPandasSandbox.csv')\n",
    "\n",
    "pd.concat([feedback_1, feedback_2])"
   ]
  },
  {
   "cell_type": "markdown",
   "metadata": {},
   "source": [
    "<a id='P1'><h2> <img src=\"https://cdn.shopify.com/s/files/1/1200/7374/products/book_aec28e76-52ec-44ab-bc01-41df1279c89f_550x825.png?v=1473897430\" width=25 align=\"left\"> <font color=\"darkorange\"> &nbsp; Practice I </font><font color=\"skyblue\"> * </font></h2></a>\n",
    "\n",
    "### Wines Dataset\n",
    "\n",
    "### Question 1 - Merge the two datasets and preview dataset\n",
    "\n",
    "Read the dataset from `wines-1.csv` and `wines-2.csv` into `wines_1_df` and `wines_2_df` respective. Specify the `sep` parameter as the separator right now is no longer a comma.\n",
    "\n",
    "Combine the two Dataframes as `all_wines_df` and preview it with `.head()`."
   ]
  },
  {
   "cell_type": "code",
   "execution_count": 43,
   "metadata": {},
   "outputs": [
    {
     "data": {
      "text/html": [
       "<div>\n",
       "<style scoped>\n",
       "    .dataframe tbody tr th:only-of-type {\n",
       "        vertical-align: middle;\n",
       "    }\n",
       "\n",
       "    .dataframe tbody tr th {\n",
       "        vertical-align: top;\n",
       "    }\n",
       "\n",
       "    .dataframe thead th {\n",
       "        text-align: right;\n",
       "    }\n",
       "</style>\n",
       "<table border=\"1\" class=\"dataframe\">\n",
       "  <thead>\n",
       "    <tr style=\"text-align: right;\">\n",
       "      <th></th>\n",
       "      <th>country</th>\n",
       "      <th>points</th>\n",
       "      <th>price</th>\n",
       "    </tr>\n",
       "  </thead>\n",
       "  <tbody>\n",
       "    <tr>\n",
       "      <th>0</th>\n",
       "      <td>US</td>\n",
       "      <td>84</td>\n",
       "      <td>12.0</td>\n",
       "    </tr>\n",
       "    <tr>\n",
       "      <th>1</th>\n",
       "      <td>Italy</td>\n",
       "      <td>87</td>\n",
       "      <td>15.0</td>\n",
       "    </tr>\n",
       "    <tr>\n",
       "      <th>2</th>\n",
       "      <td>US</td>\n",
       "      <td>86</td>\n",
       "      <td>48.0</td>\n",
       "    </tr>\n",
       "    <tr>\n",
       "      <th>3</th>\n",
       "      <td>US</td>\n",
       "      <td>89</td>\n",
       "      <td>150.0</td>\n",
       "    </tr>\n",
       "    <tr>\n",
       "      <th>4</th>\n",
       "      <td>Italy</td>\n",
       "      <td>89</td>\n",
       "      <td>59.0</td>\n",
       "    </tr>\n",
       "  </tbody>\n",
       "</table>\n",
       "</div>"
      ],
      "text/plain": [
       "  country  points  price\n",
       "0      US      84   12.0\n",
       "1   Italy      87   15.0\n",
       "2      US      86   48.0\n",
       "3      US      89  150.0\n",
       "4   Italy      89   59.0"
      ]
     },
     "execution_count": 43,
     "metadata": {},
     "output_type": "execute_result"
    }
   ],
   "source": [
    "wine_1_df = pd.read_csv(\"wines-1.csv\", sep = \",\")\n",
    "wine_2_df = pd.read_csv(\"wines-2.csv\", seo = \",\")\n",
    "\n",
    "all_wines_df = pd.concat([wine1,wine2])\n",
    "\n",
    "all_wines_df.head()"
   ]
  },
  {
   "cell_type": "markdown",
   "metadata": {},
   "source": [
    "###  Question 2 - Create a new column that doubles the `points `\n",
    "\n",
    "Create a new column called `doubled_points` which multiplies the `points` column by 2.\n",
    "\n",
    "<b>Expected Output:</b>\n",
    "\n",
    "<img src=\"https://i.imgur.com/us7oqHV.png\">"
   ]
  },
  {
   "cell_type": "code",
   "execution_count": 44,
   "metadata": {},
   "outputs": [
    {
     "data": {
      "text/html": [
       "<div>\n",
       "<style scoped>\n",
       "    .dataframe tbody tr th:only-of-type {\n",
       "        vertical-align: middle;\n",
       "    }\n",
       "\n",
       "    .dataframe tbody tr th {\n",
       "        vertical-align: top;\n",
       "    }\n",
       "\n",
       "    .dataframe thead th {\n",
       "        text-align: right;\n",
       "    }\n",
       "</style>\n",
       "<table border=\"1\" class=\"dataframe\">\n",
       "  <thead>\n",
       "    <tr style=\"text-align: right;\">\n",
       "      <th></th>\n",
       "      <th>country</th>\n",
       "      <th>points</th>\n",
       "      <th>price</th>\n",
       "      <th>double_points</th>\n",
       "    </tr>\n",
       "  </thead>\n",
       "  <tbody>\n",
       "    <tr>\n",
       "      <th>0</th>\n",
       "      <td>US</td>\n",
       "      <td>84</td>\n",
       "      <td>12.0</td>\n",
       "      <td>168</td>\n",
       "    </tr>\n",
       "    <tr>\n",
       "      <th>1</th>\n",
       "      <td>Italy</td>\n",
       "      <td>87</td>\n",
       "      <td>15.0</td>\n",
       "      <td>174</td>\n",
       "    </tr>\n",
       "    <tr>\n",
       "      <th>2</th>\n",
       "      <td>US</td>\n",
       "      <td>86</td>\n",
       "      <td>48.0</td>\n",
       "      <td>172</td>\n",
       "    </tr>\n",
       "    <tr>\n",
       "      <th>3</th>\n",
       "      <td>US</td>\n",
       "      <td>89</td>\n",
       "      <td>150.0</td>\n",
       "      <td>178</td>\n",
       "    </tr>\n",
       "    <tr>\n",
       "      <th>4</th>\n",
       "      <td>Italy</td>\n",
       "      <td>89</td>\n",
       "      <td>59.0</td>\n",
       "      <td>178</td>\n",
       "    </tr>\n",
       "  </tbody>\n",
       "</table>\n",
       "</div>"
      ],
      "text/plain": [
       "  country  points  price  double_points\n",
       "0      US      84   12.0            168\n",
       "1   Italy      87   15.0            174\n",
       "2      US      86   48.0            172\n",
       "3      US      89  150.0            178\n",
       "4   Italy      89   59.0            178"
      ]
     },
     "execution_count": 44,
     "metadata": {},
     "output_type": "execute_result"
    }
   ],
   "source": [
    "all_wines_df['double_points'] = all_wines_df['points'] * 2\n",
    "all_wines_df.head()"
   ]
  },
  {
   "cell_type": "markdown",
   "metadata": {},
   "source": [
    "###  Question 3 - Create a new column that converts the `price` to SGD \n",
    "\n",
    "Given SGD to USD conversion is 1 USD is 1.39 SGD, called `SGD($)`\n",
    "\n",
    "<b>Expected Output:</b>\n",
    "\n",
    "<img src=\"https://i.imgur.com/nfOPpdV.png\">"
   ]
  },
  {
   "cell_type": "code",
   "execution_count": 45,
   "metadata": {
    "scrolled": true
   },
   "outputs": [
    {
     "data": {
      "text/html": [
       "<div>\n",
       "<style scoped>\n",
       "    .dataframe tbody tr th:only-of-type {\n",
       "        vertical-align: middle;\n",
       "    }\n",
       "\n",
       "    .dataframe tbody tr th {\n",
       "        vertical-align: top;\n",
       "    }\n",
       "\n",
       "    .dataframe thead th {\n",
       "        text-align: right;\n",
       "    }\n",
       "</style>\n",
       "<table border=\"1\" class=\"dataframe\">\n",
       "  <thead>\n",
       "    <tr style=\"text-align: right;\">\n",
       "      <th></th>\n",
       "      <th>country</th>\n",
       "      <th>points</th>\n",
       "      <th>price</th>\n",
       "      <th>double_points</th>\n",
       "      <th>SGD($)</th>\n",
       "    </tr>\n",
       "  </thead>\n",
       "  <tbody>\n",
       "    <tr>\n",
       "      <th>0</th>\n",
       "      <td>US</td>\n",
       "      <td>84</td>\n",
       "      <td>12.0</td>\n",
       "      <td>168</td>\n",
       "      <td>16.68</td>\n",
       "    </tr>\n",
       "    <tr>\n",
       "      <th>1</th>\n",
       "      <td>Italy</td>\n",
       "      <td>87</td>\n",
       "      <td>15.0</td>\n",
       "      <td>174</td>\n",
       "      <td>20.85</td>\n",
       "    </tr>\n",
       "    <tr>\n",
       "      <th>2</th>\n",
       "      <td>US</td>\n",
       "      <td>86</td>\n",
       "      <td>48.0</td>\n",
       "      <td>172</td>\n",
       "      <td>66.72</td>\n",
       "    </tr>\n",
       "    <tr>\n",
       "      <th>3</th>\n",
       "      <td>US</td>\n",
       "      <td>89</td>\n",
       "      <td>150.0</td>\n",
       "      <td>178</td>\n",
       "      <td>208.50</td>\n",
       "    </tr>\n",
       "    <tr>\n",
       "      <th>4</th>\n",
       "      <td>Italy</td>\n",
       "      <td>89</td>\n",
       "      <td>59.0</td>\n",
       "      <td>178</td>\n",
       "      <td>82.01</td>\n",
       "    </tr>\n",
       "  </tbody>\n",
       "</table>\n",
       "</div>"
      ],
      "text/plain": [
       "  country  points  price  double_points  SGD($)\n",
       "0      US      84   12.0            168   16.68\n",
       "1   Italy      87   15.0            174   20.85\n",
       "2      US      86   48.0            172   66.72\n",
       "3      US      89  150.0            178  208.50\n",
       "4   Italy      89   59.0            178   82.01"
      ]
     },
     "execution_count": 45,
     "metadata": {},
     "output_type": "execute_result"
    }
   ],
   "source": [
    "all_wines_df['SGD($)'] = all_wines_df['price'] * 1.39\n",
    "\n",
    "all_wines_df.head()"
   ]
  },
  {
   "cell_type": "markdown",
   "metadata": {},
   "source": [
    "###  Question 4 - Get the summary statistics of the `price` column\n",
    "\n",
    "<b>Expected Output:</b>\n",
    "\n",
    "    count    2718.000000\n",
    "    mean       32.773731\n",
    "    std        31.288298\n",
    "    min         5.000000\n",
    "    25%        16.000000\n",
    "    50%        24.000000\n",
    "    75%        40.000000\n",
    "    max       500.000000\n",
    "    Name: price, dtype: float64"
   ]
  },
  {
   "cell_type": "code",
   "execution_count": 47,
   "metadata": {},
   "outputs": [
    {
     "data": {
      "text/plain": [
       "count    2718.000000\n",
       "mean       32.773731\n",
       "std        31.288298\n",
       "min         5.000000\n",
       "25%        16.000000\n",
       "50%        24.000000\n",
       "75%        40.000000\n",
       "max       500.000000\n",
       "Name: price, dtype: float64"
      ]
     },
     "execution_count": 47,
     "metadata": {},
     "output_type": "execute_result"
    }
   ],
   "source": [
    "all_wines_df['price'].describe()"
   ]
  },
  {
   "cell_type": "markdown",
   "metadata": {},
   "source": [
    "###  Question 5 - Shift Columns\n",
    "\n",
    "Shift the columns of the dataframe to the following:\n",
    "\n",
    "<b>Expected Output:</b>\n",
    "\n",
    "<img src=\"https://i.imgur.com/Egl9aQn.png\">"
   ]
  },
  {
   "cell_type": "code",
   "execution_count": 50,
   "metadata": {
    "scrolled": true
   },
   "outputs": [
    {
     "data": {
      "text/html": [
       "<div>\n",
       "<style scoped>\n",
       "    .dataframe tbody tr th:only-of-type {\n",
       "        vertical-align: middle;\n",
       "    }\n",
       "\n",
       "    .dataframe tbody tr th {\n",
       "        vertical-align: top;\n",
       "    }\n",
       "\n",
       "    .dataframe thead th {\n",
       "        text-align: right;\n",
       "    }\n",
       "</style>\n",
       "<table border=\"1\" class=\"dataframe\">\n",
       "  <thead>\n",
       "    <tr style=\"text-align: right;\">\n",
       "      <th></th>\n",
       "      <th>price</th>\n",
       "      <th>SGD($)</th>\n",
       "      <th>country</th>\n",
       "    </tr>\n",
       "  </thead>\n",
       "  <tbody>\n",
       "    <tr>\n",
       "      <th>0</th>\n",
       "      <td>12.0</td>\n",
       "      <td>16.68</td>\n",
       "      <td>US</td>\n",
       "    </tr>\n",
       "    <tr>\n",
       "      <th>1</th>\n",
       "      <td>15.0</td>\n",
       "      <td>20.85</td>\n",
       "      <td>Italy</td>\n",
       "    </tr>\n",
       "    <tr>\n",
       "      <th>2</th>\n",
       "      <td>48.0</td>\n",
       "      <td>66.72</td>\n",
       "      <td>US</td>\n",
       "    </tr>\n",
       "    <tr>\n",
       "      <th>3</th>\n",
       "      <td>150.0</td>\n",
       "      <td>208.50</td>\n",
       "      <td>US</td>\n",
       "    </tr>\n",
       "    <tr>\n",
       "      <th>4</th>\n",
       "      <td>59.0</td>\n",
       "      <td>82.01</td>\n",
       "      <td>Italy</td>\n",
       "    </tr>\n",
       "  </tbody>\n",
       "</table>\n",
       "</div>"
      ],
      "text/plain": [
       "   price  SGD($) country\n",
       "0   12.0   16.68      US\n",
       "1   15.0   20.85   Italy\n",
       "2   48.0   66.72      US\n",
       "3  150.0  208.50      US\n",
       "4   59.0   82.01   Italy"
      ]
     },
     "execution_count": 50,
     "metadata": {},
     "output_type": "execute_result"
    }
   ],
   "source": [
    "all_wines_df[['price', 'SGD($)', 'country']].head()"
   ]
  },
  {
   "cell_type": "markdown",
   "metadata": {},
   "source": [
    "<a id='3'><h2><img src=\"https://images.vexels.com/media/users/3/153978/isolated/preview/483ef8b10a46e28d02293a31570c8c56-warning-sign-colored-stroke-icon-by-vexels.png\" width=23 align=\"left\"><font color=\"salmon\">&nbsp;3.</font><font color=\"salmon\"> Filtering </font> </h2></a>"
   ]
  },
  {
   "cell_type": "code",
   "execution_count": 53,
   "metadata": {},
   "outputs": [
    {
     "data": {
      "text/html": [
       "<div>\n",
       "<style scoped>\n",
       "    .dataframe tbody tr th:only-of-type {\n",
       "        vertical-align: middle;\n",
       "    }\n",
       "\n",
       "    .dataframe tbody tr th {\n",
       "        vertical-align: top;\n",
       "    }\n",
       "\n",
       "    .dataframe thead th {\n",
       "        text-align: right;\n",
       "    }\n",
       "</style>\n",
       "<table border=\"1\" class=\"dataframe\">\n",
       "  <thead>\n",
       "    <tr style=\"text-align: right;\">\n",
       "      <th></th>\n",
       "      <th>ClassID</th>\n",
       "      <th>ClassType</th>\n",
       "      <th>Co-Instructor</th>\n",
       "      <th>Coordinating_TA</th>\n",
       "      <th>Instructor</th>\n",
       "      <th>Rating</th>\n",
       "      <th>Students</th>\n",
       "    </tr>\n",
       "  </thead>\n",
       "  <tbody>\n",
       "    <tr>\n",
       "      <th>0</th>\n",
       "      <td>1</td>\n",
       "      <td>DS101</td>\n",
       "      <td>False</td>\n",
       "      <td>Dick</td>\n",
       "      <td>Jon</td>\n",
       "      <td>Nil</td>\n",
       "      <td>40</td>\n",
       "    </tr>\n",
       "    <tr>\n",
       "      <th>1</th>\n",
       "      <td>2</td>\n",
       "      <td>DS101</td>\n",
       "      <td>True</td>\n",
       "      <td>Vera</td>\n",
       "      <td>Andre</td>\n",
       "      <td>7</td>\n",
       "      <td>43</td>\n",
       "    </tr>\n",
       "    <tr>\n",
       "      <th>2</th>\n",
       "      <td>3</td>\n",
       "      <td>DS102</td>\n",
       "      <td>False</td>\n",
       "      <td>Vera</td>\n",
       "      <td>Jon</td>\n",
       "      <td>9</td>\n",
       "      <td>41</td>\n",
       "    </tr>\n",
       "    <tr>\n",
       "      <th>3</th>\n",
       "      <td>4</td>\n",
       "      <td>DS102</td>\n",
       "      <td>True</td>\n",
       "      <td>Dick</td>\n",
       "      <td>Andre</td>\n",
       "      <td>Nope</td>\n",
       "      <td>44</td>\n",
       "    </tr>\n",
       "    <tr>\n",
       "      <th>4</th>\n",
       "      <td>5</td>\n",
       "      <td>DS101</td>\n",
       "      <td>True</td>\n",
       "      <td>Dick</td>\n",
       "      <td>Andre</td>\n",
       "      <td>10</td>\n",
       "      <td>45</td>\n",
       "    </tr>\n",
       "  </tbody>\n",
       "</table>\n",
       "</div>"
      ],
      "text/plain": [
       "   ClassID ClassType  Co-Instructor Coordinating_TA Instructor Rating  \\\n",
       "0        1     DS101          False            Dick        Jon    Nil   \n",
       "1        2     DS101           True            Vera      Andre      7   \n",
       "2        3     DS102          False            Vera        Jon      9   \n",
       "3        4     DS102           True            Dick      Andre   Nope   \n",
       "4        5     DS101           True            Dick      Andre     10   \n",
       "\n",
       "   Students  \n",
       "0        40  \n",
       "1        43  \n",
       "2        41  \n",
       "3        44  \n",
       "4        45  "
      ]
     },
     "execution_count": 53,
     "metadata": {},
     "output_type": "execute_result"
    }
   ],
   "source": [
    "feedback_df = pd.read_csv(\"HWAPandasSandbox.csv\")\n",
    "feedback_df"
   ]
  },
  {
   "cell_type": "markdown",
   "metadata": {},
   "source": [
    "<a id='3.1'><h3>3.1 Boolean Array</h3></a>\n",
    "\n",
    "\n",
    "We can filter for results within a `DataFrame` to get the data we want. \n",
    "\n",
    "We specify the column we want to isolate in the DataFrame, then specify the boolean condition we are looking for. For example, we want to find the `Females` in the `Sex` column. \n",
    "\n",
    "```python\n",
    "df['sex'] == 'Females'\n",
    "\n",
    "# or for multiple conditions, we link them by & (and) or | (or) symbols\n",
    "# where each condition is surrounded by a ()\n",
    "\n",
    "(df['sex'] == 'Females') & (df['type_of_course'] == 'Medicine')\n",
    "\n",
    "```\n",
    "\n",
    "This gives us a Boolean array of multiple `True` and `False` values. "
   ]
  },
  {
   "cell_type": "code",
   "execution_count": 54,
   "metadata": {},
   "outputs": [
    {
     "data": {
      "text/plain": [
       "0    False\n",
       "1     True\n",
       "2    False\n",
       "3     True\n",
       "4     True\n",
       "Name: Students, dtype: bool"
      ]
     },
     "execution_count": 54,
     "metadata": {},
     "output_type": "execute_result"
    }
   ],
   "source": [
    "feedback_df['Students'] > 42"
   ]
  },
  {
   "cell_type": "markdown",
   "metadata": {},
   "source": [
    "#### Using Boolean Arrays to Filter\n",
    "By creating many of these Boolean Array allow you to stack them too as shown above\n",
    "\n",
    "<b>Note the square brackets</b>\n",
    "\n",
    "```python\n",
    "   \n",
    "    dataframe[<boolean array here> & <boolean array here>] \n",
    "\n",
    "```\n",
    "\n",
    "We put this Boolean Series inside another `[]` to take out the data within the DataFrame. What this does is it only extracts the rows with the `True` value within the DataFrame. For example,\n",
    "\n",
    "```python\n",
    "df[df['sex'] == 'Females']\n",
    "\n",
    "```\n",
    "<div class=\"alert alert-success\">\n",
    "<b> It is important to note that this does not permanently alter or change the original DataFrame in any way. As \n",
    "such, all filtered data should be stored into another variable.</b>\n",
    "</div>"
   ]
  },
  {
   "cell_type": "code",
   "execution_count": 59,
   "metadata": {},
   "outputs": [
    {
     "data": {
      "text/html": [
       "<div>\n",
       "<style scoped>\n",
       "    .dataframe tbody tr th:only-of-type {\n",
       "        vertical-align: middle;\n",
       "    }\n",
       "\n",
       "    .dataframe tbody tr th {\n",
       "        vertical-align: top;\n",
       "    }\n",
       "\n",
       "    .dataframe thead th {\n",
       "        text-align: right;\n",
       "    }\n",
       "</style>\n",
       "<table border=\"1\" class=\"dataframe\">\n",
       "  <thead>\n",
       "    <tr style=\"text-align: right;\">\n",
       "      <th></th>\n",
       "      <th>ClassID</th>\n",
       "      <th>ClassType</th>\n",
       "      <th>Co-Instructor</th>\n",
       "      <th>Coordinating_TA</th>\n",
       "      <th>Instructor</th>\n",
       "      <th>Rating</th>\n",
       "      <th>Students</th>\n",
       "    </tr>\n",
       "  </thead>\n",
       "  <tbody>\n",
       "    <tr>\n",
       "      <th>0</th>\n",
       "      <td>1</td>\n",
       "      <td>DS101</td>\n",
       "      <td>False</td>\n",
       "      <td>Dick</td>\n",
       "      <td>Jon</td>\n",
       "      <td>Nil</td>\n",
       "      <td>40</td>\n",
       "    </tr>\n",
       "    <tr>\n",
       "      <th>1</th>\n",
       "      <td>2</td>\n",
       "      <td>DS101</td>\n",
       "      <td>True</td>\n",
       "      <td>Vera</td>\n",
       "      <td>Andre</td>\n",
       "      <td>7</td>\n",
       "      <td>43</td>\n",
       "    </tr>\n",
       "    <tr>\n",
       "      <th>3</th>\n",
       "      <td>4</td>\n",
       "      <td>DS102</td>\n",
       "      <td>True</td>\n",
       "      <td>Dick</td>\n",
       "      <td>Andre</td>\n",
       "      <td>Nope</td>\n",
       "      <td>44</td>\n",
       "    </tr>\n",
       "    <tr>\n",
       "      <th>4</th>\n",
       "      <td>5</td>\n",
       "      <td>DS101</td>\n",
       "      <td>True</td>\n",
       "      <td>Dick</td>\n",
       "      <td>Andre</td>\n",
       "      <td>10</td>\n",
       "      <td>45</td>\n",
       "    </tr>\n",
       "  </tbody>\n",
       "</table>\n",
       "</div>"
      ],
      "text/plain": [
       "   ClassID ClassType  Co-Instructor Coordinating_TA Instructor Rating  \\\n",
       "0        1     DS101          False            Dick        Jon    Nil   \n",
       "1        2     DS101           True            Vera      Andre      7   \n",
       "3        4     DS102           True            Dick      Andre   Nope   \n",
       "4        5     DS101           True            Dick      Andre     10   \n",
       "\n",
       "   Students  \n",
       "0        40  \n",
       "1        43  \n",
       "3        44  \n",
       "4        45  "
      ]
     },
     "execution_count": 59,
     "metadata": {},
     "output_type": "execute_result"
    }
   ],
   "source": [
    "cond1 = feedback_df['ClassType'] ==  \"DS101\"\n",
    "cond2 = feedback_df['Instructor'] ==  \"Andre\"\n",
    "\n",
    "feedback_df[cond1 & cond2]\n",
    "\n",
    "feedback_df[cond1 | cond2]"
   ]
  },
  {
   "cell_type": "markdown",
   "metadata": {},
   "source": [
    "### Employees Dataset\n",
    "\n",
    "Read the `employees-1k.csv` as `employees_df` and preview the dataset with `.head()`."
   ]
  },
  {
   "cell_type": "code",
   "execution_count": 57,
   "metadata": {},
   "outputs": [
    {
     "data": {
      "text/html": [
       "<div>\n",
       "<style scoped>\n",
       "    .dataframe tbody tr th:only-of-type {\n",
       "        vertical-align: middle;\n",
       "    }\n",
       "\n",
       "    .dataframe tbody tr th {\n",
       "        vertical-align: top;\n",
       "    }\n",
       "\n",
       "    .dataframe thead th {\n",
       "        text-align: right;\n",
       "    }\n",
       "</style>\n",
       "<table border=\"1\" class=\"dataframe\">\n",
       "  <thead>\n",
       "    <tr style=\"text-align: right;\">\n",
       "      <th></th>\n",
       "      <th>employee_id</th>\n",
       "      <th>annual_inc</th>\n",
       "      <th>employee_title</th>\n",
       "      <th>home_ownership</th>\n",
       "    </tr>\n",
       "  </thead>\n",
       "  <tbody>\n",
       "    <tr>\n",
       "      <th>0</th>\n",
       "      <td>44037036</td>\n",
       "      <td>55000.0</td>\n",
       "      <td>Account Specialist</td>\n",
       "      <td>OWN</td>\n",
       "    </tr>\n",
       "    <tr>\n",
       "      <th>1</th>\n",
       "      <td>41036228</td>\n",
       "      <td>184000.0</td>\n",
       "      <td>IT Architect</td>\n",
       "      <td>MORTGAGE</td>\n",
       "    </tr>\n",
       "    <tr>\n",
       "      <th>2</th>\n",
       "      <td>67601397</td>\n",
       "      <td>30000.0</td>\n",
       "      <td>night auditor</td>\n",
       "      <td>RENT</td>\n",
       "    </tr>\n",
       "    <tr>\n",
       "      <th>3</th>\n",
       "      <td>64972576</td>\n",
       "      <td>72000.0</td>\n",
       "      <td>Field Service Representative</td>\n",
       "      <td>MORTGAGE</td>\n",
       "    </tr>\n",
       "    <tr>\n",
       "      <th>4</th>\n",
       "      <td>59922079</td>\n",
       "      <td>84000.0</td>\n",
       "      <td>Senior Pastor</td>\n",
       "      <td>MORTGAGE</td>\n",
       "    </tr>\n",
       "  </tbody>\n",
       "</table>\n",
       "</div>"
      ],
      "text/plain": [
       "   employee_id  annual_inc                employee_title home_ownership\n",
       "0     44037036     55000.0            Account Specialist            OWN\n",
       "1     41036228    184000.0                  IT Architect       MORTGAGE\n",
       "2     67601397     30000.0                 night auditor           RENT\n",
       "3     64972576     72000.0  Field Service Representative       MORTGAGE\n",
       "4     59922079     84000.0                 Senior Pastor       MORTGAGE"
      ]
     },
     "execution_count": 57,
     "metadata": {},
     "output_type": "execute_result"
    }
   ],
   "source": [
    "employees_df = pd.read_csv('employees-1k.csv')\n",
    "\n",
    "employees_df.head()"
   ]
  },
  {
   "cell_type": "markdown",
   "metadata": {},
   "source": [
    "<a id='3.2'><h3>3.2 <code>.isin()</code></h3></a>\n",
    "\n",
    "`.isin()` allows you to search for multiple values within a single column, instead of using a very long conditional. This method returns a Boolean array too.\n",
    "\n",
    "Take the following as an example, where we're looking for only `OWN` and `RENT` in the dataset."
   ]
  },
  {
   "cell_type": "code",
   "execution_count": 61,
   "metadata": {
    "scrolled": true
   },
   "outputs": [
    {
     "data": {
      "text/html": [
       "<div>\n",
       "<style scoped>\n",
       "    .dataframe tbody tr th:only-of-type {\n",
       "        vertical-align: middle;\n",
       "    }\n",
       "\n",
       "    .dataframe tbody tr th {\n",
       "        vertical-align: top;\n",
       "    }\n",
       "\n",
       "    .dataframe thead th {\n",
       "        text-align: right;\n",
       "    }\n",
       "</style>\n",
       "<table border=\"1\" class=\"dataframe\">\n",
       "  <thead>\n",
       "    <tr style=\"text-align: right;\">\n",
       "      <th></th>\n",
       "      <th>employee_id</th>\n",
       "      <th>annual_inc</th>\n",
       "      <th>employee_title</th>\n",
       "      <th>home_ownership</th>\n",
       "    </tr>\n",
       "  </thead>\n",
       "  <tbody>\n",
       "    <tr>\n",
       "      <th>0</th>\n",
       "      <td>44037036</td>\n",
       "      <td>55000.0</td>\n",
       "      <td>Account Specialist</td>\n",
       "      <td>OWN</td>\n",
       "    </tr>\n",
       "    <tr>\n",
       "      <th>2</th>\n",
       "      <td>67601397</td>\n",
       "      <td>30000.0</td>\n",
       "      <td>night auditor</td>\n",
       "      <td>RENT</td>\n",
       "    </tr>\n",
       "    <tr>\n",
       "      <th>5</th>\n",
       "      <td>4417511</td>\n",
       "      <td>65000.0</td>\n",
       "      <td>Market Resource Partners</td>\n",
       "      <td>RENT</td>\n",
       "    </tr>\n",
       "    <tr>\n",
       "      <th>6</th>\n",
       "      <td>64816480</td>\n",
       "      <td>130000.0</td>\n",
       "      <td>Sr. System Engineer</td>\n",
       "      <td>RENT</td>\n",
       "    </tr>\n",
       "    <tr>\n",
       "      <th>7</th>\n",
       "      <td>37075903</td>\n",
       "      <td>108000.0</td>\n",
       "      <td>President</td>\n",
       "      <td>RENT</td>\n",
       "    </tr>\n",
       "    <tr>\n",
       "      <th>...</th>\n",
       "      <td>...</td>\n",
       "      <td>...</td>\n",
       "      <td>...</td>\n",
       "      <td>...</td>\n",
       "    </tr>\n",
       "    <tr>\n",
       "      <th>990</th>\n",
       "      <td>5458073</td>\n",
       "      <td>60000.0</td>\n",
       "      <td>Round Rock ISD</td>\n",
       "      <td>RENT</td>\n",
       "    </tr>\n",
       "    <tr>\n",
       "      <th>994</th>\n",
       "      <td>56995568</td>\n",
       "      <td>103000.0</td>\n",
       "      <td>Project Manager</td>\n",
       "      <td>RENT</td>\n",
       "    </tr>\n",
       "    <tr>\n",
       "      <th>996</th>\n",
       "      <td>40523409</td>\n",
       "      <td>32000.0</td>\n",
       "      <td>Laborer</td>\n",
       "      <td>RENT</td>\n",
       "    </tr>\n",
       "    <tr>\n",
       "      <th>997</th>\n",
       "      <td>26637691</td>\n",
       "      <td>32000.0</td>\n",
       "      <td>Waitress</td>\n",
       "      <td>RENT</td>\n",
       "    </tr>\n",
       "    <tr>\n",
       "      <th>999</th>\n",
       "      <td>64019889</td>\n",
       "      <td>58000.0</td>\n",
       "      <td>Machinist</td>\n",
       "      <td>RENT</td>\n",
       "    </tr>\n",
       "  </tbody>\n",
       "</table>\n",
       "<p>523 rows × 4 columns</p>\n",
       "</div>"
      ],
      "text/plain": [
       "     employee_id  annual_inc            employee_title home_ownership\n",
       "0       44037036     55000.0        Account Specialist            OWN\n",
       "2       67601397     30000.0             night auditor           RENT\n",
       "5        4417511     65000.0  Market Resource Partners           RENT\n",
       "6       64816480    130000.0       Sr. System Engineer           RENT\n",
       "7       37075903    108000.0                 President           RENT\n",
       "..           ...         ...                       ...            ...\n",
       "990      5458073     60000.0            Round Rock ISD           RENT\n",
       "994     56995568    103000.0           Project Manager           RENT\n",
       "996     40523409     32000.0                   Laborer           RENT\n",
       "997     26637691     32000.0                  Waitress           RENT\n",
       "999     64019889     58000.0                 Machinist           RENT\n",
       "\n",
       "[523 rows x 4 columns]"
      ]
     },
     "execution_count": 61,
     "metadata": {},
     "output_type": "execute_result"
    }
   ],
   "source": [
    "cond1 = employees_df['home_ownership'].isin(['OWN', 'RENT'])\n",
    "\n",
    "employees_df[cond1]\n"
   ]
  },
  {
   "cell_type": "markdown",
   "metadata": {},
   "source": [
    "<a id='P2'><h2> <img src=\"https://cdn.shopify.com/s/files/1/1200/7374/products/book_aec28e76-52ec-44ab-bc01-41df1279c89f_550x825.png?v=1473897430\" width=25 align=\"left\"> <font color=\"darkorange\"> &nbsp; Practice II </font><font color=\"skyblue\"> * </font></h2></a>\n",
    "\n",
    "### Question 1 - Get the total `annual_inc` for all employees who `OWN` homes\n",
    "\n",
    "**Expected Output:**\n",
    "\n",
    "    7156267.84"
   ]
  },
  {
   "cell_type": "code",
   "execution_count": 63,
   "metadata": {},
   "outputs": [
    {
     "data": {
      "text/plain": [
       "7156267.84"
      ]
     },
     "execution_count": 63,
     "metadata": {},
     "output_type": "execute_result"
    }
   ],
   "source": [
    "cond1 = employees_df['home_ownership'] == 'OWN'\n",
    "own_df = employees_df[cond1]\n",
    "\n",
    "own_df['annual_inc'].sum()"
   ]
  },
  {
   "cell_type": "markdown",
   "metadata": {},
   "source": [
    "### Question 2 - Get the average income for all employees who `OWN` or `RENT` homes who earns an `annual_inc` between 50000 to 100000, both inclusive\n",
    "\n",
    "**Expected Output:**\n",
    "\n",
    "    68465.2265625"
   ]
  },
  {
   "cell_type": "code",
   "execution_count": 65,
   "metadata": {},
   "outputs": [
    {
     "data": {
      "text/plain": [
       "68465.2265625"
      ]
     },
     "execution_count": 65,
     "metadata": {},
     "output_type": "execute_result"
    }
   ],
   "source": [
    "cond1 = employees_df['home_ownership'].isin(['OWN', 'RENT'])\n",
    "cond2 = employees_df['annual_inc'].between(50000,100000)\n",
    "\n",
    "employees_df[cond1 & cond2]['annual_inc'].mean()"
   ]
  },
  {
   "cell_type": "markdown",
   "metadata": {},
   "source": [
    "<a id='4'><h2><img src=\"https://images.vexels.com/media/users/3/153978/isolated/preview/483ef8b10a46e28d02293a31570c8c56-warning-sign-colored-stroke-icon-by-vexels.png\" width=23 align=\"left\"><font color=\"salmon\">&nbsp;4.</font><font color=\"salmon\"> Data Cleaning - Handling Missing Data</font> </h2></a>\n",
    "\n",
    "Missing data is a common theme when preprocessing data. There are several ways to handle such scenarios and the choice is up to you to decide. For this section we will be using the Wines Dataset."
   ]
  },
  {
   "cell_type": "code",
   "execution_count": 69,
   "metadata": {},
   "outputs": [],
   "source": [
    "all_wines_df = pd.read_csv('wines-3k.csv', sep='|') # sep for separater"
   ]
  },
  {
   "cell_type": "markdown",
   "metadata": {},
   "source": [
    "<a id='4.1'><h3>4.1 <code>.isnull()</code></h3></a>\n",
    "\n",
    "`isnull()` gives a Boolean Array/DataFrame that checks every single value if they are missing or not and returns a DataFrame of all True/False, where True means missing value is present.\n",
    "\n",
    "The `.sum()` adds up all the True / False values, where 1 is True and 0 is False."
   ]
  },
  {
   "cell_type": "code",
   "execution_count": 70,
   "metadata": {
    "scrolled": true
   },
   "outputs": [
    {
     "data": {
      "text/plain": [
       "country      0\n",
       "points       0\n",
       "price      282\n",
       "dtype: int64"
      ]
     },
     "execution_count": 70,
     "metadata": {},
     "output_type": "execute_result"
    }
   ],
   "source": [
    "all_wines_df.isnull().sum()"
   ]
  },
  {
   "cell_type": "markdown",
   "metadata": {},
   "source": [
    "<a id='4.2'><h3>4.2 <code>.dropna()</code></h3></a>\n",
    "\n",
    "Sometimes, it is better to drop these missing rows entirely rather than spending the time to understand why it's missing. `.dropna()` allows you to drop these rows/columns. The `axis=` argument allows you to drop column or row wise, 0 or 1.\n",
    "\n",
    "<div class=\"alert alert-success\">\n",
    "<b> It is important to note that when you drop these rows/columns, the original dataframe doesn't change. It only returns you a new DataFrame with the dropped rows/columns.</b> This will be a recurring theme when you do data transformation.\n",
    "</div>\n",
    "\n",
    "\n",
    "To make sure that the changes is applied to the original dataframe, add the `inplace=` argument and set it as True."
   ]
  },
  {
   "cell_type": "code",
   "execution_count": 1,
   "metadata": {
    "scrolled": true
   },
   "outputs": [
    {
     "ename": "NameError",
     "evalue": "name 'all_wines_df' is not defined",
     "output_type": "error",
     "traceback": [
      "\u001b[1;31m---------------------------------------------------------------------------\u001b[0m",
      "\u001b[1;31mNameError\u001b[0m                                 Traceback (most recent call last)",
      "\u001b[1;32m<ipython-input-1-ffaee9da8b0c>\u001b[0m in \u001b[0;36m<module>\u001b[1;34m\u001b[0m\n\u001b[1;32m----> 1\u001b[1;33m \u001b[0mprint\u001b[0m\u001b[1;33m(\u001b[0m\u001b[0mall_wines_df\u001b[0m\u001b[1;33m.\u001b[0m\u001b[0mshape\u001b[0m\u001b[1;33m)\u001b[0m\u001b[1;33m\u001b[0m\u001b[1;33m\u001b[0m\u001b[0m\n\u001b[0m\u001b[0;32m      2\u001b[0m \u001b[0mall_wines_df\u001b[0m\u001b[1;33m.\u001b[0m\u001b[0mdropna\u001b[0m\u001b[1;33m(\u001b[0m\u001b[0maxis\u001b[0m\u001b[1;33m=\u001b[0m\u001b[1;36m0\u001b[0m\u001b[1;33m,\u001b[0m \u001b[0minplace\u001b[0m\u001b[1;33m=\u001b[0m\u001b[1;32mTrue\u001b[0m\u001b[1;33m)\u001b[0m\u001b[1;33m\u001b[0m\u001b[1;33m\u001b[0m\u001b[0m\n\u001b[0;32m      3\u001b[0m \u001b[1;33m\u001b[0m\u001b[0m\n\u001b[0;32m      4\u001b[0m \u001b[0mprint\u001b[0m\u001b[1;33m(\u001b[0m\u001b[0mall_wines_df\u001b[0m\u001b[1;33m.\u001b[0m\u001b[0mshape\u001b[0m\u001b[1;33m)\u001b[0m\u001b[1;33m\u001b[0m\u001b[1;33m\u001b[0m\u001b[0m\n",
      "\u001b[1;31mNameError\u001b[0m: name 'all_wines_df' is not defined"
     ]
    }
   ],
   "source": [
    "print(all_wines_df.shape)\n",
    "all_wines_df.dropna(axis=0, inplace=True)\n",
    "\n",
    "print(all_wines_df.shape)"
   ]
  },
  {
   "cell_type": "markdown",
   "metadata": {},
   "source": [
    "<a id='4.3'><h3>4.3 <code>.fillna()</code></h3></a>\n",
    "\n",
    "However, given this wine dataset, it dropping may not be the best idea too. Since price is a numeric value, we can fill up these values with zero, therefore retaining the rows, not losing out on the data. \n",
    "\n",
    "<div class=\"alert alert-success\">\n",
    "<b> It is important to note that when you change these rows/columns, the original dataframe doesn't change. It only returns you a new DataFrame with the changed rows/columns.</b> This will be a recurring theme when you do data transformation.\n",
    "</div>\n",
    "\n",
    "\n",
    "\n",
    "To make sure that the changes is applied to the original dataframe, add the `inplace=` argument and set it as True."
   ]
  },
  {
   "cell_type": "code",
   "execution_count": 74,
   "metadata": {
    "scrolled": true
   },
   "outputs": [
    {
     "data": {
      "text/html": [
       "<div>\n",
       "<style scoped>\n",
       "    .dataframe tbody tr th:only-of-type {\n",
       "        vertical-align: middle;\n",
       "    }\n",
       "\n",
       "    .dataframe tbody tr th {\n",
       "        vertical-align: top;\n",
       "    }\n",
       "\n",
       "    .dataframe thead th {\n",
       "        text-align: right;\n",
       "    }\n",
       "</style>\n",
       "<table border=\"1\" class=\"dataframe\">\n",
       "  <thead>\n",
       "    <tr style=\"text-align: right;\">\n",
       "      <th></th>\n",
       "      <th>country</th>\n",
       "      <th>points</th>\n",
       "      <th>price</th>\n",
       "    </tr>\n",
       "  </thead>\n",
       "  <tbody>\n",
       "    <tr>\n",
       "      <th>0</th>\n",
       "      <td>US</td>\n",
       "      <td>84</td>\n",
       "      <td>12.0</td>\n",
       "    </tr>\n",
       "    <tr>\n",
       "      <th>1</th>\n",
       "      <td>Italy</td>\n",
       "      <td>87</td>\n",
       "      <td>15.0</td>\n",
       "    </tr>\n",
       "    <tr>\n",
       "      <th>2</th>\n",
       "      <td>US</td>\n",
       "      <td>86</td>\n",
       "      <td>48.0</td>\n",
       "    </tr>\n",
       "    <tr>\n",
       "      <th>3</th>\n",
       "      <td>US</td>\n",
       "      <td>89</td>\n",
       "      <td>150.0</td>\n",
       "    </tr>\n",
       "    <tr>\n",
       "      <th>4</th>\n",
       "      <td>Italy</td>\n",
       "      <td>89</td>\n",
       "      <td>59.0</td>\n",
       "    </tr>\n",
       "    <tr>\n",
       "      <th>...</th>\n",
       "      <td>...</td>\n",
       "      <td>...</td>\n",
       "      <td>...</td>\n",
       "    </tr>\n",
       "    <tr>\n",
       "      <th>2995</th>\n",
       "      <td>US</td>\n",
       "      <td>86</td>\n",
       "      <td>38.0</td>\n",
       "    </tr>\n",
       "    <tr>\n",
       "      <th>2996</th>\n",
       "      <td>Italy</td>\n",
       "      <td>88</td>\n",
       "      <td>16.0</td>\n",
       "    </tr>\n",
       "    <tr>\n",
       "      <th>2997</th>\n",
       "      <td>France</td>\n",
       "      <td>85</td>\n",
       "      <td>15.0</td>\n",
       "    </tr>\n",
       "    <tr>\n",
       "      <th>2998</th>\n",
       "      <td>Italy</td>\n",
       "      <td>95</td>\n",
       "      <td>55.0</td>\n",
       "    </tr>\n",
       "    <tr>\n",
       "      <th>2999</th>\n",
       "      <td>Austria</td>\n",
       "      <td>84</td>\n",
       "      <td>17.0</td>\n",
       "    </tr>\n",
       "  </tbody>\n",
       "</table>\n",
       "<p>2718 rows × 3 columns</p>\n",
       "</div>"
      ],
      "text/plain": [
       "      country  points  price\n",
       "0          US      84   12.0\n",
       "1       Italy      87   15.0\n",
       "2          US      86   48.0\n",
       "3          US      89  150.0\n",
       "4       Italy      89   59.0\n",
       "...       ...     ...    ...\n",
       "2995       US      86   38.0\n",
       "2996    Italy      88   16.0\n",
       "2997   France      85   15.0\n",
       "2998    Italy      95   55.0\n",
       "2999  Austria      84   17.0\n",
       "\n",
       "[2718 rows x 3 columns]"
      ]
     },
     "execution_count": 74,
     "metadata": {},
     "output_type": "execute_result"
    }
   ],
   "source": [
    "all_wines_df.fillna(all_wines_df['price'].mean())"
   ]
  },
  {
   "cell_type": "markdown",
   "metadata": {},
   "source": [
    "<a id='P3'><h2> <img src=\"https://cdn.shopify.com/s/files/1/1200/7374/products/book_aec28e76-52ec-44ab-bc01-41df1279c89f_550x825.png?v=1473897430\" width=25 align=\"left\"> <font color=\"darkorange\"> &nbsp; Practice III </font><font color=\"skyblue\"> * </font></h2></a>\n",
    "\n",
    "### Employees Dataset\n",
    "\n",
    "Read the `employees-1k.csv` dataset as `employees_df` and preview it with `.head()`."
   ]
  },
  {
   "cell_type": "code",
   "execution_count": null,
   "metadata": {},
   "outputs": [],
   "source": []
  },
  {
   "cell_type": "markdown",
   "metadata": {},
   "source": [
    "### Question 1 - Find the number of empty values for each column\n",
    "\n",
    "**Expected Output:**\n",
    "    \n",
    "    employee_id        0\n",
    "    annual_inc         0\n",
    "    employee_title    57\n",
    "    home_ownership     0\n",
    "    dtype: int64"
   ]
  },
  {
   "cell_type": "code",
   "execution_count": null,
   "metadata": {
    "scrolled": true
   },
   "outputs": [],
   "source": []
  },
  {
   "cell_type": "markdown",
   "metadata": {},
   "source": [
    "### Question 2 - Fill empty values with a \"Not Valid\" \n",
    "\n"
   ]
  },
  {
   "cell_type": "code",
   "execution_count": null,
   "metadata": {
    "scrolled": true
   },
   "outputs": [],
   "source": []
  },
  {
   "cell_type": "code",
   "execution_count": null,
   "metadata": {},
   "outputs": [],
   "source": []
  }
 ],
 "metadata": {
  "kernelspec": {
   "display_name": "Python 3",
   "language": "python",
   "name": "python3"
  },
  "language_info": {
   "codemirror_mode": {
    "name": "ipython",
    "version": 3
   },
   "file_extension": ".py",
   "mimetype": "text/x-python",
   "name": "python",
   "nbconvert_exporter": "python",
   "pygments_lexer": "ipython3",
   "version": "3.7.6"
  }
 },
 "nbformat": 4,
 "nbformat_minor": 2
}
