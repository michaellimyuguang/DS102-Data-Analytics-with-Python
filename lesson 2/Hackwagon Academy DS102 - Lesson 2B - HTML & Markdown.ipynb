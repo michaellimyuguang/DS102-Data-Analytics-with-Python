{
 "cells": [
  {
   "cell_type": "markdown",
   "metadata": {},
   "source": [
    "<center><img src=\"https://i2.wp.com/hackwagon.com/wp-content/uploads/2017/02/Logo-Web-Export.png?ssl=1\" width=200/></center>\n",
    "<h1> Hackwagon Academy DS102 Lesson 3B</h1>\n",
    "<h2> HTML & Markdown</h2> \n",
    "<h3> Lesson Outline </h3>\n",
    "\n",
    "- 1. [HTML](#1)\n",
    "    - 1.1 [Headers](#1.1)\n",
    "    - 1.2 [Texts](#1.2)\n",
    "    - 1.3 [Attributes](#1.3)\n",
    "    - 1.4 [HTML Nesting](#1.4)\n",
    "- 2. [Blocks](#2)\n",
    "    - 2.1 [`div` Block](#2.1)\n",
    "- 3. [Tables](#3)\n",
    "- 4. [Extras (Optional)](#4)"
   ]
  },
  {
   "cell_type": "markdown",
   "metadata": {},
   "source": [
    "<hr/>\n",
    "\n",
    "<a id='1'><h2><img src=\"https://images.vexels.com/media/users/3/153978/isolated/preview/483ef8b10a46e28d02293a31570c8c56-warning-sign-colored-stroke-icon-by-vexels.png\" width=23 align=\"left\"><font color=\"salmon\">&nbsp;1.</font><font color=\"salmon\"> HTML </font> </h2></a>\n",
    "\n",
    "HTML stands for Hyper Text Markup Language. It is the standard language which your browser (Google Chrome, Safari, Microsoft Edge) interprets from websites in order to display nice webpages for you. We will now understand how to interpret HTML. \n",
    "\n",
    "You can learn more about how to read HTML here: https://www.w3schools.com/html/default.asp\n",
    "\n",
    "In HTML, codes are enclosed in tags like these.\n",
    "\n",
    "<img src=\"https://i.imgur.com/Hb8a9Qe.png\" width=400>"
   ]
  },
  {
   "cell_type": "markdown",
   "metadata": {},
   "source": [
    "<a id='1.1'><h3>1.1 Headers</h3></a>\n",
    "\n",
    "<h1>Header 1</h1>\n",
    "<h2>Header 2</h2>\n",
    "<h3>Header 2</h3>"
   ]
  },
  {
   "cell_type": "markdown",
   "metadata": {},
   "source": [
    "<a id='1.2'><h3>1.2 Texts & Paragraphs</h3></a>\n",
    "\n",
    "We can edit texts with some simple formatting like.\n",
    "\n",
    "- Bold\n",
    "- Italics \n",
    "- Underline\n",
    "\n",
    "<b>This is Bold</b> \n",
    "\n",
    "<i>This is Italics</i>\n",
    "\n",
    "<u>This is Underline</u>\n",
    "\n",
    "<p>This is a short paragraph of texts</p>\n",
    "<p>This is another short paragraph of texts</p>"
   ]
  },
  {
   "cell_type": "markdown",
   "metadata": {},
   "source": [
    "<a id='1.3'><h3>1.3 Attributes</h3></a>\n",
    "\n",
    "Attributes are settings that changes the styling, dimension, identifier or action of the content within it.\n",
    "\n",
    "<img src=\"https://i.imgur.com/CrOn4jx.png\" width=400>\n",
    "\n",
    "Common attributes would include:\n",
    "<table>    \n",
    "<tr>\n",
    "    <th>Attribute</th><th>Description</th>\n",
    "</tr>\n",
    "<tr>\n",
    "    <td>alt</td><td>Specifies an alternative text for an image, when the image cannot be displayed</td>\n",
    "</tr>  \n",
    "<tr>\n",
    "    <td>href</td><td>Specifies the URL (web address) for a link</td>\n",
    "</tr>  \n",
    "<tr>\n",
    "    <td>id</td><td>Specifies a unique id for an element</td>\n",
    "</tr>  \n",
    "<tr>\n",
    "    <td>src</td><td>Specifies the URL (web address) for an image</td>\n",
    "</tr>  \n",
    "<tr>\n",
    "    <td>title</td><td>Specifies extra information about an element (displayed as a tool tip)</td>\n",
    "</tr>  \n",
    "</table>"
   ]
  },
  {
   "cell_type": "markdown",
   "metadata": {},
   "source": [
    "<a id='1.4'><h3>1.4 HTML Nesting</h3></a>\n",
    "\n",
    "HTML Tags can be nested within each other, and they must be closed appropriately. \n",
    "\n",
    "<img src=\"https://i.imgur.com/VMYSOzq.png\" width=500>"
   ]
  },
  {
   "cell_type": "markdown",
   "metadata": {},
   "source": [
    "<a id='2'><h2><img src=\"https://images.vexels.com/media/users/3/153978/isolated/preview/483ef8b10a46e28d02293a31570c8c56-warning-sign-colored-stroke-icon-by-vexels.png\" width=23 align=\"left\"><font color=\"salmon\">&nbsp;2.</font><font color=\"salmon\"> Blocks </font> </h2></a>\n",
    "\n",
    "For web designers, they want to make sure their content is contained within a well defined section. To do so, they will either use the `<div>` or `<span>` tags to contain these items."
   ]
  },
  {
   "cell_type": "markdown",
   "metadata": {},
   "source": [
    "<a id='2.1'><h3>2.1 `div` Block</h3></a>\n",
    "\n",
    "<div class=\"alert alert-block alert-danger\">\n",
    "<b>Tip:</b> Use blue boxes (alert-info) for tips and notes. \n",
    "If it’s a note, you don’t have to include the word “Note”.\n",
    "</div>\n",
    "\n"
   ]
  },
  {
   "cell_type": "markdown",
   "metadata": {},
   "source": [
    "<a id='3'><h2><img src=\"https://images.vexels.com/media/users/3/153978/isolated/preview/483ef8b10a46e28d02293a31570c8c56-warning-sign-colored-stroke-icon-by-vexels.png\" width=23 align=\"left\"><font color=\"salmon\">&nbsp;3.</font><font color=\"salmon\"> Tables </font> </h2></a>\n",
    "\n",
    "Many useful datasets are stored within tables in web pages. The tables are coded as such: \n",
    "\n",
    "<img src=\"https://i.imgur.com/Th90tXd.png\" width=500>\n",
    "\n",
    "Things to note:\n",
    "- Opening and closing `<table>` tags\n",
    "- Each row is represented by `<tr>` tags\n",
    "- Header cells are represented by `<th>` tags\n",
    "- Data cells are represented by `<td>` tags"
   ]
  },
  {
   "cell_type": "markdown",
   "metadata": {},
   "source": [
    "<table>    \n",
    "<tr>\n",
    "    <th>Name</th><th>Age</th>\n",
    "</tr>\n",
    "<tr>\n",
    "    <td>Alice</td><td>20</td>\n",
    "</tr>  \n",
    "<tr>\n",
    "    <td>Bob</td><td>30</td>\n",
    "</tr>   \n",
    "</table>"
   ]
  },
  {
   "cell_type": "markdown",
   "metadata": {},
   "source": [
    "<a id='4'><h2><img src=\"https://images.vexels.com/media/users/3/153978/isolated/preview/483ef8b10a46e28d02293a31570c8c56-warning-sign-colored-stroke-icon-by-vexels.png\" width=23 align=\"left\"><font color=\"salmon\">&nbsp;4.</font><font color=\"salmon\"> Extra (Optional) </font> </h2></a>\n",
    "\n",
    "\n",
    "### Alert Boxes \n",
    "\n",
    "Credit: https://www.ibm.com/support/knowledgecenter/en/SSGNPV_1.1.3/dsx/markd-jupyter.html\n",
    "\n",
    "<div class=\"alert alert-block alert-info\">\n",
    "<b>Tip:</b> Use blue boxes (alert-info) for tips and notes. \n",
    "If it’s a note, you don’t have to include the word “Note”.\n",
    "</div>\n",
    "\n",
    "<div class=\"alert alert-block alert-warning\">\n",
    "<b>Example:</b> Use yellow boxes for examples that are not \n",
    "inside code cells, or use for mathematical formulas if needed.\n",
    "</div>\n",
    "\n",
    "<div class=\"alert alert-block alert-success\">\n",
    "<b>Up to you:</b> Use green boxes sparingly, and only for some specific \n",
    "purpose that the other boxes can't cover. For example, if you have a lot \n",
    "of related content to link to, maybe you decide to use green boxes for \n",
    "related links from each section of a notebook.\n",
    "</div>\n",
    "\n",
    "<div class=\"alert alert-block alert-danger\">\n",
    "<b>Just don't:</b> In general, avoid the red boxes. These should only be\n",
    "used for actions that might cause data loss or another major issue.\n",
    "</div>"
   ]
  },
  {
   "cell_type": "code",
   "execution_count": null,
   "metadata": {},
   "outputs": [],
   "source": []
  }
 ],
 "metadata": {
  "kernelspec": {
   "display_name": "Python 3",
   "language": "python",
   "name": "python3"
  },
  "language_info": {
   "codemirror_mode": {
    "name": "ipython",
    "version": 3
   },
   "file_extension": ".py",
   "mimetype": "text/x-python",
   "name": "python",
   "nbconvert_exporter": "python",
   "pygments_lexer": "ipython3",
   "version": "3.7.6"
  }
 },
 "nbformat": 4,
 "nbformat_minor": 2
}
